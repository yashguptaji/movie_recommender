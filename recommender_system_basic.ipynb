{
  "nbformat": 4,
  "nbformat_minor": 0,
  "metadata": {
    "colab": {
      "name": "recommender system basic.ipynb",
      "provenance": [],
      "authorship_tag": "ABX9TyPKsHLzpYSnmcuGYzEWNZaY",
      "include_colab_link": true
    },
    "kernelspec": {
      "name": "python3",
      "display_name": "Python 3"
    },
    "language_info": {
      "name": "python"
    }
  },
  "cells": [
    {
      "cell_type": "markdown",
      "metadata": {
        "id": "view-in-github",
        "colab_type": "text"
      },
      "source": [
        "<a href=\"https://colab.research.google.com/github/yashguptaji/movie_recommender/blob/main/recommender_system_basic.ipynb\" target=\"_parent\"><img src=\"https://colab.research.google.com/assets/colab-badge.svg\" alt=\"Open In Colab\"/></a>"
      ]
    },
    {
      "cell_type": "code",
      "metadata": {
        "colab": {
          "base_uri": "https://localhost:8080/"
        },
        "id": "dpMx1UhTUIhT",
        "outputId": "44ba135c-8df0-4925-b4ed-f24346460ca9"
      },
      "source": [
        "!pip install kaggle"
      ],
      "execution_count": null,
      "outputs": [
        {
          "output_type": "stream",
          "text": [
            "Requirement already satisfied: kaggle in /usr/local/lib/python3.7/dist-packages (1.5.12)\n",
            "Requirement already satisfied: six>=1.10 in /usr/local/lib/python3.7/dist-packages (from kaggle) (1.15.0)\n",
            "Requirement already satisfied: requests in /usr/local/lib/python3.7/dist-packages (from kaggle) (2.23.0)\n",
            "Requirement already satisfied: urllib3 in /usr/local/lib/python3.7/dist-packages (from kaggle) (1.24.3)\n",
            "Requirement already satisfied: certifi in /usr/local/lib/python3.7/dist-packages (from kaggle) (2020.12.5)\n",
            "Requirement already satisfied: python-dateutil in /usr/local/lib/python3.7/dist-packages (from kaggle) (2.8.1)\n",
            "Requirement already satisfied: tqdm in /usr/local/lib/python3.7/dist-packages (from kaggle) (4.41.1)\n",
            "Requirement already satisfied: python-slugify in /usr/local/lib/python3.7/dist-packages (from kaggle) (5.0.2)\n",
            "Requirement already satisfied: idna<3,>=2.5 in /usr/local/lib/python3.7/dist-packages (from requests->kaggle) (2.10)\n",
            "Requirement already satisfied: chardet<4,>=3.0.2 in /usr/local/lib/python3.7/dist-packages (from requests->kaggle) (3.0.4)\n",
            "Requirement already satisfied: text-unidecode>=1.3 in /usr/local/lib/python3.7/dist-packages (from python-slugify->kaggle) (1.3)\n"
          ],
          "name": "stdout"
        }
      ]
    },
    {
      "cell_type": "code",
      "metadata": {
        "colab": {
          "resources": {
            "http://localhost:8080/nbextensions/google.colab/files.js": {
              "data": "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",
              "ok": true,
              "headers": [
                [
                  "content-type",
                  "application/javascript"
                ]
              ],
              "status": 200,
              "status_text": ""
            }
          },
          "base_uri": "https://localhost:8080/",
          "height": 90
        },
        "id": "QlAtKyo8Uiqg",
        "outputId": "11da53b2-f0fe-4f6b-baaa-aad418dd70b8"
      },
      "source": [
        "\n",
        "from google.colab import files\n",
        "files.upload()\n"
      ],
      "execution_count": null,
      "outputs": [
        {
          "output_type": "display_data",
          "data": {
            "text/html": [
              "\n",
              "     <input type=\"file\" id=\"files-78c163b5-9586-4bbc-9945-2bf881481bc4\" name=\"files[]\" multiple disabled\n",
              "        style=\"border:none\" />\n",
              "     <output id=\"result-78c163b5-9586-4bbc-9945-2bf881481bc4\">\n",
              "      Upload widget is only available when the cell has been executed in the\n",
              "      current browser session. Please rerun this cell to enable.\n",
              "      </output>\n",
              "      <script src=\"/nbextensions/google.colab/files.js\"></script> "
            ],
            "text/plain": [
              "<IPython.core.display.HTML object>"
            ]
          },
          "metadata": {
            "tags": []
          }
        },
        {
          "output_type": "stream",
          "text": [
            "Saving kaggle.json to kaggle.json\n"
          ],
          "name": "stdout"
        },
        {
          "output_type": "execute_result",
          "data": {
            "text/plain": [
              "{'kaggle.json': b'{\"username\":\"yguptaiitg\",\"key\":\"20d81439047188bfaf3a8b596057c4d8\"}'}"
            ]
          },
          "metadata": {
            "tags": []
          },
          "execution_count": 10
        }
      ]
    },
    {
      "cell_type": "code",
      "metadata": {
        "id": "AiPbMl5kYFO8"
      },
      "source": [
        "!mkdir -p ~/.kaggle\n",
        "!cp kaggle.json ~/.kaggle/\n",
        "\n",
        "# change permission\n",
        "!chmod 600 ~/.kaggle/kaggle.json"
      ],
      "execution_count": null,
      "outputs": []
    },
    {
      "cell_type": "code",
      "metadata": {
        "colab": {
          "base_uri": "https://localhost:8080/"
        },
        "id": "KzEwkzBiYp0s",
        "outputId": "ce0a6f85-af08-4552-902e-e6b1dd3f1d24"
      },
      "source": [
        "!kaggle datasets download -d tmdb/tmdb-movie-metadata"
      ],
      "execution_count": null,
      "outputs": [
        {
          "output_type": "stream",
          "text": [
            "Downloading tmdb-movie-metadata.zip to /content\n",
            " 56% 5.00M/8.89M [00:00<00:00, 19.6MB/s]\n",
            "100% 8.89M/8.89M [00:00<00:00, 29.3MB/s]\n"
          ],
          "name": "stdout"
        }
      ]
    },
    {
      "cell_type": "code",
      "metadata": {
        "colab": {
          "base_uri": "https://localhost:8080/"
        },
        "id": "onN7LyIrY1UD",
        "outputId": "ae6ad7e0-0391-4ce8-b6b7-c933524718a4"
      },
      "source": [
        "from zipfile import ZipFile\n",
        "file_name = \"tmdb-movie-metadata.zip\"\n",
        "with ZipFile(file_name,'r') as zip:\n",
        "  zip.extractall()\n",
        "  print(\"Done!\")"
      ],
      "execution_count": null,
      "outputs": [
        {
          "output_type": "stream",
          "text": [
            "Done!\n"
          ],
          "name": "stdout"
        }
      ]
    },
    {
      "cell_type": "code",
      "metadata": {
        "id": "_NVZ6DtcVEBW"
      },
      "source": [
        "import numpy as np\n",
        "import pandas as pd"
      ],
      "execution_count": null,
      "outputs": []
    },
    {
      "cell_type": "code",
      "metadata": {
        "id": "-9zbDTXbZT55"
      },
      "source": [
        "credits=pd.read_csv(\"tmdb_5000_credits.csv\")\n",
        "movies_df=pd.read_csv(\"tmdb_5000_movies.csv\")"
      ],
      "execution_count": null,
      "outputs": []
    },
    {
      "cell_type": "code",
      "metadata": {
        "colab": {
          "base_uri": "https://localhost:8080/"
        },
        "id": "UBpK-4_cZjZH",
        "outputId": "6baf78b2-ba22-4c43-f839-5b0fb9e5f790"
      },
      "source": [
        "credits.columns"
      ],
      "execution_count": null,
      "outputs": [
        {
          "output_type": "execute_result",
          "data": {
            "text/plain": [
              "Index(['movie_id', 'title', 'cast', 'crew'], dtype='object')"
            ]
          },
          "metadata": {
            "tags": []
          },
          "execution_count": 20
        }
      ]
    },
    {
      "cell_type": "code",
      "metadata": {
        "colab": {
          "base_uri": "https://localhost:8080/"
        },
        "id": "ZsyKO4g5ZkZx",
        "outputId": "6240c546-c48b-4ad6-e977-843ecdd741fb"
      },
      "source": [
        "movies_df.columns"
      ],
      "execution_count": null,
      "outputs": [
        {
          "output_type": "execute_result",
          "data": {
            "text/plain": [
              "Index(['budget', 'genres', 'homepage', 'id', 'keywords', 'original_language',\n",
              "       'original_title', 'overview', 'popularity', 'production_companies',\n",
              "       'production_countries', 'release_date', 'revenue', 'runtime',\n",
              "       'spoken_languages', 'status', 'tagline', 'title', 'vote_average',\n",
              "       'vote_count'],\n",
              "      dtype='object')"
            ]
          },
          "metadata": {
            "tags": []
          },
          "execution_count": 21
        }
      ]
    },
    {
      "cell_type": "code",
      "metadata": {
        "colab": {
          "base_uri": "https://localhost:8080/",
          "height": 702
        },
        "id": "n83zWKYkZtl1",
        "outputId": "0afc3dba-8d90-456e-e3b2-4a2b9999edd7"
      },
      "source": [
        "credits_renamed = credits.rename(index=str,columns={\"movie_id\":\"id\"}) #rename movie_id to id and then merge the datasetsm\n",
        "movies = movies_df.merge(credits_renamed,on=\"id\")\n",
        "movies.head()"
      ],
      "execution_count": null,
      "outputs": [
        {
          "output_type": "execute_result",
          "data": {
            "text/html": [
              "<div>\n",
              "<style scoped>\n",
              "    .dataframe tbody tr th:only-of-type {\n",
              "        vertical-align: middle;\n",
              "    }\n",
              "\n",
              "    .dataframe tbody tr th {\n",
              "        vertical-align: top;\n",
              "    }\n",
              "\n",
              "    .dataframe thead th {\n",
              "        text-align: right;\n",
              "    }\n",
              "</style>\n",
              "<table border=\"1\" class=\"dataframe\">\n",
              "  <thead>\n",
              "    <tr style=\"text-align: right;\">\n",
              "      <th></th>\n",
              "      <th>budget</th>\n",
              "      <th>genres</th>\n",
              "      <th>homepage</th>\n",
              "      <th>id</th>\n",
              "      <th>keywords</th>\n",
              "      <th>original_language</th>\n",
              "      <th>original_title</th>\n",
              "      <th>overview</th>\n",
              "      <th>popularity</th>\n",
              "      <th>production_companies</th>\n",
              "      <th>production_countries</th>\n",
              "      <th>release_date</th>\n",
              "      <th>revenue</th>\n",
              "      <th>runtime</th>\n",
              "      <th>spoken_languages</th>\n",
              "      <th>status</th>\n",
              "      <th>tagline</th>\n",
              "      <th>title_x</th>\n",
              "      <th>vote_average</th>\n",
              "      <th>vote_count</th>\n",
              "      <th>title_y</th>\n",
              "      <th>cast</th>\n",
              "      <th>crew</th>\n",
              "    </tr>\n",
              "  </thead>\n",
              "  <tbody>\n",
              "    <tr>\n",
              "      <th>0</th>\n",
              "      <td>237000000</td>\n",
              "      <td>[{\"id\": 28, \"name\": \"Action\"}, {\"id\": 12, \"nam...</td>\n",
              "      <td>http://www.avatarmovie.com/</td>\n",
              "      <td>19995</td>\n",
              "      <td>[{\"id\": 1463, \"name\": \"culture clash\"}, {\"id\":...</td>\n",
              "      <td>en</td>\n",
              "      <td>Avatar</td>\n",
              "      <td>In the 22nd century, a paraplegic Marine is di...</td>\n",
              "      <td>150.437577</td>\n",
              "      <td>[{\"name\": \"Ingenious Film Partners\", \"id\": 289...</td>\n",
              "      <td>[{\"iso_3166_1\": \"US\", \"name\": \"United States o...</td>\n",
              "      <td>2009-12-10</td>\n",
              "      <td>2787965087</td>\n",
              "      <td>162.0</td>\n",
              "      <td>[{\"iso_639_1\": \"en\", \"name\": \"English\"}, {\"iso...</td>\n",
              "      <td>Released</td>\n",
              "      <td>Enter the World of Pandora.</td>\n",
              "      <td>Avatar</td>\n",
              "      <td>7.2</td>\n",
              "      <td>11800</td>\n",
              "      <td>Avatar</td>\n",
              "      <td>[{\"cast_id\": 242, \"character\": \"Jake Sully\", \"...</td>\n",
              "      <td>[{\"credit_id\": \"52fe48009251416c750aca23\", \"de...</td>\n",
              "    </tr>\n",
              "    <tr>\n",
              "      <th>1</th>\n",
              "      <td>300000000</td>\n",
              "      <td>[{\"id\": 12, \"name\": \"Adventure\"}, {\"id\": 14, \"...</td>\n",
              "      <td>http://disney.go.com/disneypictures/pirates/</td>\n",
              "      <td>285</td>\n",
              "      <td>[{\"id\": 270, \"name\": \"ocean\"}, {\"id\": 726, \"na...</td>\n",
              "      <td>en</td>\n",
              "      <td>Pirates of the Caribbean: At World's End</td>\n",
              "      <td>Captain Barbossa, long believed to be dead, ha...</td>\n",
              "      <td>139.082615</td>\n",
              "      <td>[{\"name\": \"Walt Disney Pictures\", \"id\": 2}, {\"...</td>\n",
              "      <td>[{\"iso_3166_1\": \"US\", \"name\": \"United States o...</td>\n",
              "      <td>2007-05-19</td>\n",
              "      <td>961000000</td>\n",
              "      <td>169.0</td>\n",
              "      <td>[{\"iso_639_1\": \"en\", \"name\": \"English\"}]</td>\n",
              "      <td>Released</td>\n",
              "      <td>At the end of the world, the adventure begins.</td>\n",
              "      <td>Pirates of the Caribbean: At World's End</td>\n",
              "      <td>6.9</td>\n",
              "      <td>4500</td>\n",
              "      <td>Pirates of the Caribbean: At World's End</td>\n",
              "      <td>[{\"cast_id\": 4, \"character\": \"Captain Jack Spa...</td>\n",
              "      <td>[{\"credit_id\": \"52fe4232c3a36847f800b579\", \"de...</td>\n",
              "    </tr>\n",
              "    <tr>\n",
              "      <th>2</th>\n",
              "      <td>245000000</td>\n",
              "      <td>[{\"id\": 28, \"name\": \"Action\"}, {\"id\": 12, \"nam...</td>\n",
              "      <td>http://www.sonypictures.com/movies/spectre/</td>\n",
              "      <td>206647</td>\n",
              "      <td>[{\"id\": 470, \"name\": \"spy\"}, {\"id\": 818, \"name...</td>\n",
              "      <td>en</td>\n",
              "      <td>Spectre</td>\n",
              "      <td>A cryptic message from Bond’s past sends him o...</td>\n",
              "      <td>107.376788</td>\n",
              "      <td>[{\"name\": \"Columbia Pictures\", \"id\": 5}, {\"nam...</td>\n",
              "      <td>[{\"iso_3166_1\": \"GB\", \"name\": \"United Kingdom\"...</td>\n",
              "      <td>2015-10-26</td>\n",
              "      <td>880674609</td>\n",
              "      <td>148.0</td>\n",
              "      <td>[{\"iso_639_1\": \"fr\", \"name\": \"Fran\\u00e7ais\"},...</td>\n",
              "      <td>Released</td>\n",
              "      <td>A Plan No One Escapes</td>\n",
              "      <td>Spectre</td>\n",
              "      <td>6.3</td>\n",
              "      <td>4466</td>\n",
              "      <td>Spectre</td>\n",
              "      <td>[{\"cast_id\": 1, \"character\": \"James Bond\", \"cr...</td>\n",
              "      <td>[{\"credit_id\": \"54805967c3a36829b5002c41\", \"de...</td>\n",
              "    </tr>\n",
              "    <tr>\n",
              "      <th>3</th>\n",
              "      <td>250000000</td>\n",
              "      <td>[{\"id\": 28, \"name\": \"Action\"}, {\"id\": 80, \"nam...</td>\n",
              "      <td>http://www.thedarkknightrises.com/</td>\n",
              "      <td>49026</td>\n",
              "      <td>[{\"id\": 849, \"name\": \"dc comics\"}, {\"id\": 853,...</td>\n",
              "      <td>en</td>\n",
              "      <td>The Dark Knight Rises</td>\n",
              "      <td>Following the death of District Attorney Harve...</td>\n",
              "      <td>112.312950</td>\n",
              "      <td>[{\"name\": \"Legendary Pictures\", \"id\": 923}, {\"...</td>\n",
              "      <td>[{\"iso_3166_1\": \"US\", \"name\": \"United States o...</td>\n",
              "      <td>2012-07-16</td>\n",
              "      <td>1084939099</td>\n",
              "      <td>165.0</td>\n",
              "      <td>[{\"iso_639_1\": \"en\", \"name\": \"English\"}]</td>\n",
              "      <td>Released</td>\n",
              "      <td>The Legend Ends</td>\n",
              "      <td>The Dark Knight Rises</td>\n",
              "      <td>7.6</td>\n",
              "      <td>9106</td>\n",
              "      <td>The Dark Knight Rises</td>\n",
              "      <td>[{\"cast_id\": 2, \"character\": \"Bruce Wayne / Ba...</td>\n",
              "      <td>[{\"credit_id\": \"52fe4781c3a36847f81398c3\", \"de...</td>\n",
              "    </tr>\n",
              "    <tr>\n",
              "      <th>4</th>\n",
              "      <td>260000000</td>\n",
              "      <td>[{\"id\": 28, \"name\": \"Action\"}, {\"id\": 12, \"nam...</td>\n",
              "      <td>http://movies.disney.com/john-carter</td>\n",
              "      <td>49529</td>\n",
              "      <td>[{\"id\": 818, \"name\": \"based on novel\"}, {\"id\":...</td>\n",
              "      <td>en</td>\n",
              "      <td>John Carter</td>\n",
              "      <td>John Carter is a war-weary, former military ca...</td>\n",
              "      <td>43.926995</td>\n",
              "      <td>[{\"name\": \"Walt Disney Pictures\", \"id\": 2}]</td>\n",
              "      <td>[{\"iso_3166_1\": \"US\", \"name\": \"United States o...</td>\n",
              "      <td>2012-03-07</td>\n",
              "      <td>284139100</td>\n",
              "      <td>132.0</td>\n",
              "      <td>[{\"iso_639_1\": \"en\", \"name\": \"English\"}]</td>\n",
              "      <td>Released</td>\n",
              "      <td>Lost in our world, found in another.</td>\n",
              "      <td>John Carter</td>\n",
              "      <td>6.1</td>\n",
              "      <td>2124</td>\n",
              "      <td>John Carter</td>\n",
              "      <td>[{\"cast_id\": 5, \"character\": \"John Carter\", \"c...</td>\n",
              "      <td>[{\"credit_id\": \"52fe479ac3a36847f813eaa3\", \"de...</td>\n",
              "    </tr>\n",
              "  </tbody>\n",
              "</table>\n",
              "</div>"
            ],
            "text/plain": [
              "      budget  ...                                               crew\n",
              "0  237000000  ...  [{\"credit_id\": \"52fe48009251416c750aca23\", \"de...\n",
              "1  300000000  ...  [{\"credit_id\": \"52fe4232c3a36847f800b579\", \"de...\n",
              "2  245000000  ...  [{\"credit_id\": \"54805967c3a36829b5002c41\", \"de...\n",
              "3  250000000  ...  [{\"credit_id\": \"52fe4781c3a36847f81398c3\", \"de...\n",
              "4  260000000  ...  [{\"credit_id\": \"52fe479ac3a36847f813eaa3\", \"de...\n",
              "\n",
              "[5 rows x 23 columns]"
            ]
          },
          "metadata": {
            "tags": []
          },
          "execution_count": 25
        }
      ]
    },
    {
      "cell_type": "code",
      "metadata": {
        "id": "nWT2X6p-alQl"
      },
      "source": [
        "movies=movies.drop(columns=['homepage','title_x','title_y','status','production_countries'])"
      ],
      "execution_count": null,
      "outputs": []
    },
    {
      "cell_type": "code",
      "metadata": {
        "colab": {
          "base_uri": "https://localhost:8080/"
        },
        "id": "OT4n0tkvbSix",
        "outputId": "64235b3f-62b6-439f-cfcf-cdf4840a5ae1"
      },
      "source": [
        "movies.info()"
      ],
      "execution_count": null,
      "outputs": [
        {
          "output_type": "stream",
          "text": [
            "<class 'pandas.core.frame.DataFrame'>\n",
            "Int64Index: 4803 entries, 0 to 4802\n",
            "Data columns (total 18 columns):\n",
            " #   Column                Non-Null Count  Dtype  \n",
            "---  ------                --------------  -----  \n",
            " 0   budget                4803 non-null   int64  \n",
            " 1   genres                4803 non-null   object \n",
            " 2   id                    4803 non-null   int64  \n",
            " 3   keywords              4803 non-null   object \n",
            " 4   original_language     4803 non-null   object \n",
            " 5   original_title        4803 non-null   object \n",
            " 6   overview              4800 non-null   object \n",
            " 7   popularity            4803 non-null   float64\n",
            " 8   production_companies  4803 non-null   object \n",
            " 9   release_date          4802 non-null   object \n",
            " 10  revenue               4803 non-null   int64  \n",
            " 11  runtime               4801 non-null   float64\n",
            " 12  spoken_languages      4803 non-null   object \n",
            " 13  tagline               3959 non-null   object \n",
            " 14  vote_average          4803 non-null   float64\n",
            " 15  vote_count            4803 non-null   int64  \n",
            " 16  cast                  4803 non-null   object \n",
            " 17  crew                  4803 non-null   object \n",
            "dtypes: float64(3), int64(4), object(11)\n",
            "memory usage: 712.9+ KB\n"
          ],
          "name": "stdout"
        }
      ]
    },
    {
      "cell_type": "markdown",
      "metadata": {
        "id": "Uiy1WVkZcei1"
      },
      "source": [
        "** Using Weighted Average **\n",
        "\n",
        "![7628808.png](data:image/png;base64,iVBORw0KGgoAAAANSUhEUgAAAXAAAACZCAIAAAC5R/aWAAB9fklEQVR42u1dBVxVSdvn3W/fd1vXtQuR7gYBSRGku0UpMQCRMMBCwG5EEQQFBEURRAUEAWkEpLtBuvsCt883cw4gGLu4y4bu/e9P9tw5c6bnP8/MPPMMHUIDDTTQME+g+7sTQAMNNHw5oBEKDTTQMG+gEQoNNNAwb/gSCIVEIhFQEIlE8ExEQaFQ/prYqVQqFikJBRUFmUz+u0uFBhr+BnwJhPIxgI79Z0fxPnH8ZURGAw3/QHz2hAI6cFBQkIeHx7Fjx86fP+/t7Q3+nj59enBwEPmTOQXjjvHx8evXr589e/bq1asgduAyNDSUlpaG0MiFhn8fPntCAZSRnJwsJCS0ePHiR48ePXv27PHjx5aWlgICAu3t7dgE5M+IFyOLe/fubdy48eLFi5GRkSDq8PBwFxcXDQ0NQGrgLZgH/d3FQwMNfyk+b0KZJgtubu7Lly9Puw8PD69cudLc3BxBez6JRML6P/APOvmvUwyQOLq6upCPSzfAHQvNzc1t1apVqampM98CaeWXX36pqakBfggEApgTYUsqACAZWHqwZ5r8QsOXh8+bULA+CXovHR1daGgoHo8fGBgALiUlJV9//TWYB/2O0DIyMqytrcEDoIMPesOIxsfH58cff8zJyUHQlZRpjnjz5o20tPT7/jFgnEIDDV8qvgRCefnyJZAU+vv7McfOzk4wDQHzDqwn19fX3717F5AOeAZ0ExAQ0N3djXxIAJkmlJ07dyIfJxSAvr4+QGFHjhwBz4DFZr4C0s2ZM2dA4M3NzWAKlp2dDRzj4uLAnCgqKgo85+fnP336FMyVOjo6kL9k5ZgGGv4yfN6EgsHR0ZGFhSU8PPzGjRs7duwAPwFrYK9qa2v9/f13794tKysLfra2tgIiAD6R2Sum2CwGm56kp6cDQgEPgCkw95l9Hvtq7969YEoFKIOCYmZiQCDYenBgYODVq1fXrl176dIlQCjPnj0TFBR0cXEB7s+fP7eysjI1NUVoMgsNXxY+e0IBvR2wibm5eUNDQ0VFxYMHD5YsWVJWVgbccThccHDw6Oiom5ublJQUtkC7a9eu+Ph45ONbMIWFhXZ2dh+LDtsnXrduHR8fH/LetvE09RQVFQHaAm8XLVoEhBHMERCKvLw8xiARERHCwsLIr8pBNNDw2eGzJxTAGt999920SAJAT09/4MAB0LcBlfT09IAOzMHBAWQE7O3NmzfBpAOZQSig2xcUFOTm5ubk5Lx+/RpINNra2uAhKysrLy/v1atXYA6FTJEFxiAMDAyAGjChZjpezENVVRV4APMv8MrX11dAQABBxRAikbhixQrAI9hPAwMDdXV1EAJtJ4iGLwmfMaFgHfjp06dr1qx58+YNJoD09fV988032HLs2NgY+AskhQULFoDJDoKyD5hxAFkGmSFNAEdLS0t9fX1DQ0MjIyPAFExMTOABuJiYmKioqERHRyNTcxOMQYAHZWVlbP8ICwRzBwQESGQ6hWpqajo6OtgzkFmYmZmHh4exeMGzj48PQtNVoeHLwrwRyvuLi3/2ciPWFbdu3QoEEGSqw7e0tNDR0WEKZiMjI+DvqVOnZGVlMUEgPT394cOHyK92YyBiODg4/HqkYIbFzs4+/RPLKeCyo0ePYmvDWGLAtGiaX1xcXISEhLDnxMREIEYBDgLiT319/V9QVjTQ8Nfgr5NQ5r3PYEIBCwsLEBYwBRPws6mpCRDK7du3EXR2A/6eO3dOVFQU9PyBgQHQvTFZ5h1CAd8SCISJiQnwNyUlZceOHeABSC7YEaH39eu7u7s5OTnt7e2xZIAAAS94enoCMpp2KS0tXblyZW9vL5ZxSUlJbK0XPG/fvl1JSQl84uXlNTQ0hPn/yyqCBhr+PPwhQsG6JejDGzduXL58uYiIyJkzZ4BLQUGBpqbmihUrWFlZQ0JCMM9hYWGMjIz8/PwxMTF/MNFYD09KSlJUVARhAmEB4w7snJ6trS2YsAAewaY2oMfu3r0bdH4gtpSVlSEfF08w98zMzD179iAf13PFOj/gFOAN8IK1tTWI0c/PD1OBmT4ZGBERAd5OkxeYOhUWFmIh5Obm6urqgnlZY2MjQpv10PAF4Y9KKJhs//LlSyAXTO+egF7U2dn5v//97+LFi8hUzwQd+9ixY0VFRe8LCH8lfkUWwFIFJBQwjUJ+df/lV5Ro5x7dHD3QQMNnhD9KKNhoXFJSsnDhQmyigbkAivnmm29OnDiBTBFKQkLC9B7HPGbg/dM6v3s1B/PW3NyMrcL+ugmCuZwSmunhnWcaj9DwReKPEgo2qre1ta1fvx7bWwFdZWRk5MqVK0BmcXZ2xvyMj4+DOQgQUjCLIX93rmmggYY/BfNDKIBBeHl57ezssLE3NDS0tLR0xYoV2PE8BFUbff36NfKR9QIgwnR/HF1dXX+lsga2EPOXRUcDDV8S/iihTEvvUlJS6urq4KG6uhoQCngAhGJgYAAYpLOzE1M8+9jxmfLyciUlJUVFxS1btijOBnAHIWMncWaSEXaW9wsAbUWWhi8J87BtjIkPGhoa/Pz8Y2NjERERgCCAy5o1awBBIOjGLaadQZvs0EDDl415IBTsuC0QRjg4OACVXL16FXMXFBTU19evqqqKjIycmJiYLzbBhvSKigo9PT1DQ0O9zxZGRkbgb1ZWFvJbC8A00PC5YB4IBdteNTc3/+mnn3x9fYEwgq1B6OjoCAkJAYGlpaUF+Yh4Ms0OysrKSii2zAD4qaKiIiMjM3PKg4UDYomOjo6NjY3+bIElvr29HaHJbjR8KZg3QrGzs6OjowOdBJnq+fv27fu///u/pKQk5Le2ikEIHR8H6HK0E3Q00PBZYN4IZefOnVJSUsiMwdbJyQkIF8iUqtv8phvTjvsCQJNNaPiSMA+EgskjqampYGozs3vk5eXl5uYiNNVyGmj41+AzNl9AAw00/NMwb4RCJpPfN4b4D9m8mGn4/jdtGo2Njf3mQikW4LRFe+zOQGSGtWraRIaGfydoEspbYIyTnp5uZWWFfLpxRpp+LQ00/CsI5fXr14GBgZjRtvr6+hs3bnxQSJmL1XtMM7iqqur27dvV1dUjIyNPnz4NDg7GNrMSExMfPXoUGho6NDSE0DaDafj34UsmFGzClZKSAnq4qqoqdrAI9Hk6Orq6ujpkRofHNlywaRGQUKytrcEDHo9/fyMGIx0vL69Tp04xMjIGBAQkJycDthIQEHBzc4uIiIiPj1dWVnZ3d0doNwfS8O/DF0somCjR3d0Nejv4qa6uPm02SVtbG9O1+yCKioo+ZvUeY5OEhISsrCwgnvz000/AM4LqCoPnAwcOYN5cXFy2bduGvHdlDw00fPH4YgkFw9jY2OjoaFNT05o1a7ClVgAgPkzfCoagax/Z2dlgpgNkE/DXx8dHQ0MjMzMTiDbY37a2NmTGMcje3l7wd9euXSYmJggqB1VWVi5atAiz/wii4+PjO3LkCPBMuyKDhn8bvnBCwRZKgcjAysqKoKQAqARQBg6HQ6amPOB5586dgB22bt1qamqqqKjIwsICRAzgYmZmpqmpian/zlxzBc/s7OyY+SiA4OBgCQkJ7Lmrq2vJkiWAiRDaCR0a/n34wgkFkxF0dXVtbW0xl5CQEOx60I+tmIK5jKOj468HC+YyQOTBzvUBqKqqYtcAAly4cEFMTAw8REdH085Y0/Bvw7+CUIyNjYG4gc1Nbt26hV2vMbOfz93qPfZVeHg4GxsbtogLXFavXo1dsgMgIiJy8OBBIKGEhobSzJ3Q8G/DF04o02ZiwXTm8OHDvr6+v3JF+Vys3mN+zp8/b21tjYUDWENBQQEjKYBnz54Bgcjb25u2c0zDvxBfOKF8EuZu9Z4GGmj4IP4thEKdwq/7AX9bW1uxi5B/ZUn1naBmzmvmEhENNHyp+LcQCg000PAXgEYo72L66j8aaKDhU0EjFBpooGHeQCMUGmigYd5AIxQaaKBh3kAjFBpooGHeMHdCoVKgUTa4G/qbl5PPfPd3Z5AGGmj46/ABQqGSySR0mwNQCJFEpgIHaCtkIibw4tX7SUQikUwkkijUSb/AB2YPEeUOCnw3yTsUMnDF/qD36QBvRBKNYGig4QvGXCQUKraJ6rZd1+TIs1kv3vFH/ZV3f3dGaaCBhj8fswiFQoTUUeHtYeXoO4Eg+U8uaO461o8gfWVRO3ceO+tuu5KFW05ZQkBA0uFxMfyA2OmlocTPyycsZRJaPIAgI/ePGeuYbRcx86gmIem+9kL8/AJCEl4P8oHfjvT7O/QditFzeRTaVIgGGr5EzCYUEjwON5jsuZrdpKybEOHMTvcVz5NWpMhLW9DaN+SMwX9+EQt+VR5xcedCDrkWhBqhJblezqVheDjliNlS/j3lQ8MnxOiW80vHlPfmhx1k5tDOaBpqSDrDslwmoXFisDLayf5ExTBCIxQaaPhSMXvKQ6WgixxNqvwaj5JfXTNYsnq5ROCjfG9pvluvKryct+sfCAWvB0vDVblkWsn9SgLLpc0O3XsYGQgo5muRkJTiyyb8V16PgYCuqnIskLEICA17cOfykgXfOIcX/d05pYEGGv50vLOGQiUT4QLq/d2CkhtlzRUvxwedMxAWY+XR6x4fvmBvabT/PpVKbXkVJMe7uQXftVl01SZtI0sLi90AB68U1VZ7awlEdyBUKs6Ng4NFWsva0txil43tbtf48t6/O6c00EDDn453F2WBjAL+die50dHRsboWIJ0xbP+lW6AVCBxP79mq7wQllNbsIGlWiWYqwVVg7caT8cAF/zJQRce9srX1qgb34xZISUlO8mxyp2CIhNgd6pppLcTxrsKwu1EdYwjNSAgNNHypeG+Xhwq3fKlDxUrc7Gczu6mUTh1Zlr23MwAFXHC0MT/yBHjpznu0XVS+jIpMVLxQXruehZ19zTKePX6vcISe6zqisV0wGCK++pDGcnoWdubVC/X3eg3iqY1xV8T41LMHYBxkCo1RaKDhC8THt42npIhpaWKWlY/pR8JQU9ObAdykLSLqLKYgtr9p7OjFTb+CBhP/7gzTQAMNfx7+kOr9rKnLO9OYX1NKoYEGGr5MzMNZHprqPQ000ICBdjiQBhpomDfQCIUGGmiYN9AIhQYaaJg30AiFBhpomDfQCIUGGmiYN9AIhQYaaJg30AiFBhpomDfMD6GQp4DdoYddbYOB+lbjlvqOCw000PCF4d8ooVApf9QeC5X6sTMEVNrpAhr+zfhDhILJI01NTZs2beLg4Ni4ceO5c+eAS2FhoZ6eHicnJx8fX2hoKOb5wYMHPDw8GzZsiI2N/evyR+vdNNDwF+KPSigkEgnQytOnT+no6CIjI8fHxymozeqampqvvvrKw8MDj8cTidAQXF9fn5OTU3JyMoFAmHm7+PvA5kQ54VcD7uehv5GSB0HevtHYKcOOgsdXzkcMIVQSiUgE/wgE1ITLQOBFz7jiRuCbRMBDZ/wEnkCijreG+fqlFfUSCCTokQqt0nXUVPUM4SjQQh0GaHQbi5oMPiaCILvCb91Mr+pAUEvd4G9/ZfL5M0cOuLl7ergfcHHzj0waQ814k4jgPzQEaD2TShwbqKjsJpNxT26dv/+yAHxMmBgnEAnQBzT3jX4CPRMJ8A+RRnc0fGH4o4SCXQNcWlq6YMGCu3fvTru8fv36u+++O3nyJHjGCCUtLe3hw4fIlFwzCSo8gjwD6DUdaB9+4b5xBf3eAcgnQ2brFtLRMRZB85FIuBE/I5vb6CxGAl8N+V10iC2oeJepxjPUhaSuxUz1XNQg3SGOtQE5fSAhMz2iVhumXaj6UtLuYa+hOxEP/jY/2ffTEjZtByeXAwe3btVf9z2dTUA2Mnt2A38NpaxYZTmGIM9uudxNSHu3sD4+U6KBhi8Df5RQMHZobW1lYGDA6AO4TExMXLhwAcgs+/fvR1CJA0gl58+f7+3tndOiLOphsDyck00waxxB2qPZJCQ4BBc6xPcgyKieIIPDQyC5jASd3qOqpGxi5V4zBLyPPgwOf1UDDWUHu5tpqGlv27nLyfXh0GCtnaGUmKqxsZ6awc6D7QiSHniaeckiYVWzKjLSHXvXXFNNVcP4bHQFFnNBpKu2ps42C2MWenG/uFqYHRK0zPAmxoFLM3A6gSme3Cvkr4KHeF8PXVVlFS2js7dKEaTHfa/Gop8XO3tej45PSMh+gx8o23/A9tARY1VVTcsrz/rhpyP3Lh3U0tA0d7ty++yVNwS0wGgsQ8OXgvkhlOHhYR4eHnt7e8zxwYMHBQUFy5cvt7S0xFzCwsKAhILMFE9Q1sC1lcXFPouOiQWIiY6Oe5E5iG4TwX9DZcYL15ytQLqum6nYn7t9fY+QcTiC5HKtlXpS1vH0ghmfhGVS8stDmvwbVLzBjEqOXeTUo/xEL0n6NbKhTyNMF/2Pjm5L2+iAg8zPK4XVw6MeGkpw6Do9bSlJE1n6s9GZwMaUKNmfOW0Dnr8M8GBeJHShkEp8fZB1AcORm+GXHRS/pvvpdmo7TDARdvrmmCOM620yyyqryssK0p7q8Syzf1Q1Gn2HeamoZ+zLRK+D3D/LRHWOZYW4/rSILyop3lJN0fxkHLH1AWBV7t2nnoae/O+SNSFlXQm+dkvYxO9EPrHREFiwgiUP2q+bnAvRQMMXgD9KKNQps0uSkpLa2trgoa6uDsx9gOPKlSsNDAwAgwwODt64cQOZbeiAis4v2rOCpSWERQBERUWERWQ3u7XC6RE29xg7Zyq37eJr/53Kh2+8qMt/yCdhVJnuIahoXlJfY8y+RN4jsqWp/mnAAbqfOOrG+y22aF8MeWghwHY9B17VQa54yM5p3t5bvF1V8fQTaNE25fZhbhk38ODIyxpe0RNz2exnbpWEsuY3ZS8MuZg0Dkff2iWtvu8emrpWLfHNFx+XIVMSSvuLc8sWLmXlAuDmZKX/mu67iLoxZKjjRXxiZklptPch/uW8QQ2AWRPXMZuAOdJhE/39N9JHGiKYOHUaYYDkfaI8/nHxh9Tkd3pWgt/DFc/UecVfj8NXNEKh4YvBPGwbY0skampqAgICYLLz9OlTIJ4Al9WrVyspKYGHixcv9vSA2co7llPg80R/y6vM3JzcXPAvJz/nVU7NOMol2CwgOeiCOK8Sj6R5YFYf0lfmKi6yZbOw1cmb3a1Fiv9ZwC2nICEhvklJS9/ibDepc+tmrTP+t7eKSiYPIvhxAtKfwMFr3tqVv11D68zjHgqZ8vSGi4iSJ5VCteJlDsoou3vFYgUzi6qclKSMrKqG4Z2UVy7qMm6hqVTiBBlpM5ZTO/8I3j00OeWJdmDdcmF8MuX9B4WZbIJLOkoiRPnZxMTFFeRkeEU2hNeRKe1P6RkN+8nD+410Hb1TB+siWLnN+6DJy95d4sI3wkL2Gkl5ZVMIExOjrSW2nCLpNEKh4cvCPBAKHg+XLYEwAobv6urqS5cuYe58fHx6enoNDQ1gBjQ2Nvbujcjo3Kc55ZbCZiV1TS0tTS11HSUVLdfGCfgWW1fA1cSJ0tH9uNm+CnY8gu9xBTq6/116XI4Q+mwYV+++B+UOUoWXnd01BBk0lFP3iog5ILrU0A0upsacsFy81Kh7sMRMTfXMI7hfE33jkIiyJ3jYxsIUVNKXeXXnClFTdOeI6mW7727hULSTKPOGI3AW0ha/YR27d1w98nYNxZFd/gIO5IEEb2H1M2LdGZh+yVmVxcgDBlAauoGH9zGYIbU9WsWsN4KQXY11nK6nDtVFsnJv74Y++iyE+ULTctyMBeV2BoLfWb6669iFi2mEQsOXhXkgFAIBdjkzM7OFCxcGBAS0t7djGz2ampri4uKRkZGNjVDq/+BWMWl8pLe/px9ioL+vt39gANtKxfZDqPg35hyL5Pf6kYA4Q0UKbx+g+0bwQTX0Uhx9lH/lYknJjfQ/fL3rfAIV6VEVUToXVdVbFabMzSUtKybBTLdopWlHb5mhjrp7TCcIM+rqAW5Z2P+vaa1kEJTNq28+KC26il9iIxfzL/zm6S0kpO+lAeMybjE5DRWe/3zL6xODLsqiayhNT5zWbjmLQ7MB0hV1UGm95LmcdD/utUs2bpTcoK7DzbxIzTUAP1LMRPe9ua2z9TZzuwspAzUPVq83Rwll0I6d3ju5oas6XmEjj4SM9Ib1dMv5xIpohELDl4V5IxRbW1tMFQWZ4o69e/d+9dVXcXFxCKqu8rvCpgz2dvYNjk3+wA03t/WMUScXbTsbixLiXxRWoh0WIfZ09Q6N4fKTImLTM6praooTTqxnO95HIvb19w3hYXrGRwY7u+HOM3G4pbioGG4NjXXlpia+zMzvJU7lZbgxPSmxsLq+rWtoBAclL2zxmDQ+1N47PN3xwc+21gHABc0VeQlJyTXdI0MdtRW1b0A0nXVVldUNvf2DA8N4CmmsvX0AvRmaMtTRPjyOK32VGBGfU1VTkxN+UWy9eOEEVEyhEQoNXwzmjVB27tzJz8+PoGyCzW4cHBw2bNiA7RN/dKt4Ug8FesD+P8dIZ6/GvJV9Il05uUUk/G57CfLzW99M+fUwZv5AJaI/u2dTn1yzZt6g5B3sp7ece+uu5zBeEuUPB0sDDf8UzAOhYBOcmJiY6urqme6pqalJSUnTHn4fZnPRez9mvJ56ouQlPHB1dn74suK9b6YeqbMeqO/4eMfpQ1FPh0Cdjdkukx4nv5hUN6FWpjw85rr/1vOCP17yNNDwT8OXdjhwZrcnU/5xg/8sQqTJJjR8cZg3Qpm2XTDT5Y/IJr8XVDIZHvAhkf+Z3ZVKIcPDPCTaygkNXyK+NAmFBhpo+Bsxz4QCRBL0GC2RRJo+yUv8PCwqofafPjGlf9HlqnAT/R9chNTfmz7sPOh8pWEei+hjoVHnv8J/T4iTBn1mH6ydwwm5OdUStj3yu/PzF0konwen0PBZYtY6/Sd//N7q+1xe/XlZ+Nwxn4QCiM3Dw0NVVVVSUnLHjh0ODg7W1tba2tr5+fnInCsbBIKuxpAhcaNSA2VK1Y2MLougThTUnTrpjnoHv6iTn75dzaGiPoHDtPSBBT1TGMG2ZMZ6qgO9A4o6RicjRYOZjACNbZreJwMHfD/SkZmZ2zFEmAx/OsapD2bmi0qZYSZzKpEzszY9XKMhzHgx0Zebmd7UA1VWyKj1mamszwz8bc6pk4kkUz7kdVbxzgwBSwP6D/vkrTUJNEHItKFPLGSs1EnQHkRPdUFafj0J+3ay5CdTNKPYJ/M+XeoUKinv+YPgiAwC8AtEWuwddUbCkUmx8W2ZUSjvCTVoeKSxN3W17X0TyIytf+qUMgFsGNTJUD8sDRDwwyMTWNF/NDT0y/6SpJjMKjR509mdWWYz8j0V09uqIU/Z5pguZwqVgOtMiHg++AmWLaCvssTI3OaRwbaKxOfP41+8eBH3/HlCWnMf8d22QKVOUxWVPF6Wm1raNAjek0jk6QY3s21Cmz1kSmd1QUpyHun3GtuYN0LB+KKzs1NRUVFYWLipqamlpaW1tfX69es///xzTk7OtJ8P2kCZGcgHC3ESs1d5fy3H1LdN6q3/WSu1k6lB7TMh1w5qLRfeVjZAmqXg8u7KLnZggOgpLRrTiiCDkVIc2gnlM1JPfc/GyhxKbtYn01Q4FRlCznJSVwx+2k+ZmfVZlf3+DveHI3j39MO8jItU6gv9LZyHHsxM2ux++140WCl1vVi6jOHwvcxZ2Z/54+PL6tMkBf6OvclUkeJk5+Bg5uLxTYOnJeC8G35Kctt1+NzD2ne+nZE2KpFAHO7rvbhLa+vRW6gWI4JrylCWnAotvQHB9gqpFCIYL6hdqpt5r8YV/0pRzNaOor6TIeS9DFGIvacdlc3vlMHEkKYZ8CMdBC23icbH63g3tBEpIfZ6Pyxcwqyqqi4tI7KefuESycfFfbNJAOqUtz7cu+fCfZAzn12Sbhdr3k/yO62U3JyoaqIfkj+CNv9PbiLzTCgjIyPLli0DJDLtPjw8zMrKqqamNsdwBpvybnlfvHjNP69xiDTU/iI+7Q3KvKP9b16kJIFRY6Q449bVKzcDo2oGoZG0/uayV7VVCUGhBTUEQnuu//VLl6/dySxvxEIbelMSePP67fjM/NSMtiGogFeTl+R95dKdsNgBAlqjFCpoKm11qZuFhRRM3duG8Aix70XwzTNnL4dn18H6626qKM99+uTJnUxYGYD1y9Ifii1ZaHU5urslQUFRzeVySMBNr4cvstDwkJGO4tveV7z979d146YKBpZMR3l2QvErf2/v4NjMptaK+37eASHRDaMoceA6wvy9z1649rIAJrut7FVeYTfaDckt6blFjc3lpQX1qDJvWdT9yxeu3IvPhyr7b4cfhNRfe9fv6sVL1xNfN6IqyZSGwpfXzp+9cut+N3o2arpd9Dfk+l27eAkUb+3AzIbd2VCcnl8cE+x9zS+kCRYUpbK4uKqpD+aou+l1bjGBMpGTkZKZ+vD6NZ+kvPLm4qTrXtfvxWSCZKUc3SRl6XE/7O7lq3559R1YiI2F8d6XLt9+kDAABztyZUleRk7Sg/t3S1BRCyH23L9qu3SV1JO86sHWqqLS/Ef37j+tG0dIHU9Dr587d+VpKlQjovY3pqUmRdwLuH4rpLi2LS0h/Or1m0l5XVjNwQ5Ixbltk1undhzQQfr1PWys0lV42E1JFGpL1UtZPjZZA5eOUfJYR0XAtQvnrgWUvhmcaq/wz0B94j4t1f/8h073TCBqmmbk2FZZBnU38Jx2bTcbmwwMjQqXBMHLgkBTnh2OLeNIZ21O3POYgBtewU9ymlrrA32u+ITGdw2hfD/ekxDsd+XSjdiS9sk+3VXxwN/r0uWbca9KQJzjbWVpxVXpT/wvX/PPrYd+auMvyyrLl8Jk//rOH7q0QR27tGudwrUM8Nt3q6y4yWXC5FuCkQSTwokn4KmpMMH7ygUv3+CKdhKC77qzQ5BBQiemsrmp8nVpOx4ZqAEJyIq+c+mq36vqZvRbcknKQ+9rNyPi4xOTK0GA4YeUNY+cRVXSP3kvct4IBRtaa2pq6OjooqKiwM/R0VHgkpCQAFwePHiATJEOEdff093Vg6K7q6u3r4eATBlVevNSgHnB5q3Wu4y3rJcxKS2IF/qB2elxB3gZc3X7Qs6dnUUpSgsZN2231BfmXy/vUolHKvxN6RiX8G6wigi4pb3+J3GtHbu2ibKJyGS2UgndmfIb1m7UMVfXUviWji6kYrg8K4iBi93Q0mqTKLO80+UBCkJGhZbSDH+W1UsZeJSLO9uvGSst5FGytjZZ/C2bS0LzeGGg2AK67zgkLO4Xos2QEnv18PIfv5fYdrCuqVqfk+7HdXxWVvos61gvP2snDr42FOaW1bU0VmQT3GBX20uC4iTaHMPM6Om+Z9c1M1nFwbZGUM542zZe5lWyJ0IRyrCjAQ/DRk1ra72VzDz3Xjc9O62ziGvHBIgLVyG3eMnJRw8NFWROveiruXFo7Q/cllZW/ItYtC8mEaeX2XD16mLLeZVMQKmtYt0Q1zAw8iZFWYBNz3aPrvgqXhXzvmlDlg0v+Jh+2rLNepeRIoOodtUwTBh2uvvhEVm65et2WFlu4V28QcebjExYKMibu0eDdyUPT4hzKHTiG9f/TEfHxW9mrMrBsmqD9KZtJqoMq7/xyR2tCdD6L3izZbu5lvA6dqmctuGmLD8xJg4TKysZ5hUaO8JAnTsb89PR/VdSxzTpDZxUIhP1Dmabvvtu6eHAF8UhNqv/R7dG0vRKTsnd3TyM7CrW1kasi1d7RlUSygJ/pKOj36iuJSLMvIJTVEN/q6rU+sXaKV1EIG1CiiWWbJfa7BnUBidH1RnbeAR8UImETKUUvvRlWrWcVVDvdXGaziZGcZ0dO3QlVwkppzUOTzU3ZLSzPj8754C+tMmBqzA0fME2yc0ng9thaFXppryCN+GYQh1DY9qhs2nXpafgyc+CiY7uK23z7Vx0K7k5pJS2W0osWqfjEk3CD91U2sTAr2JlqbNsocjpnCFkrMSM4xeejSY7d6uxc6y5XzzRE72PbskibQNjUyVuZl6T0j5QFIXGurJHH0PuxoSUiZHhns6ObqyH9HR1dfWj8hFahROF6xn5EurhWHXHfPN6rdOjGG0N1JlyszmGvK7Pu0u/eqGRtbWxkhC3+v5RXM1xidU/rxS8Ep/qYrzB0KsZyfX4z5IFKjoGZuqCDOzaJT3jpQ9NGH9etW2H+XrQUelUW0BwVZdZ5ayy2knIp4ux8yyhACphZGQcHBzEHIuLizk4OM6ePYsxDibD18RcYGdhZmFhAZILCzOzmMxhzHYr+DPSXnIr5BHkl57Xa1Ysim7svuGgKbfjGnh9jIvdPaLJ32oDkxY8MYwMZ0os5Tj2pP3Nk0P0K60bwdc9WQF+T+Cxn/Y7gvwcwXnk0tsWy9a7Qs+44k1sLFGlFQfVxBRs70OH1/e4fmJ82Aw+I4+jY/pRU/0Dt/OQnjj6hfyJ6OGhvIs7lkl4NhU+2CIo/LiiF8sCKgNO7OJiCgHC9XCylIjEzVR4Kshrt4GG8+Mcb8MFkodQ4fmN8LqVB8KgOiwFPcf0yE5Qfz+0gBm4R1Fc3R08lIcd3KxoWVN2bxWTaiUaY6itxEbnW32NaUK8zLc6EHKG5y/r7PGjxVvV9P0epWgxLdn1AEpJXeEHf1ikW4IKaDA54y3+t4NQwaBPkmPxsZjClrRby39giwVJpnRFhN+b7kBDrYW3QiNhajqz6VctDC4ZQPse/PKRi76gJDQwjtSGrlimO4iMHzQx3Hc5AThUPL2oJmPcjW/cwMbjlgwlYXMZEVMvOEh679fderW25qbmIgUL2CEQwm4xjkO+j9w0+TYcfgF+j1Xc/fZH1pLBcXcrERnj02OTTQXWNaUukpnNGJRVjb+liJxBKx7BZVwVWMufgOYk1XuHyMa9NWX3efnVy0AKW8I42VaEQAM1LdbCjGdygYhGhe1kuMhIe/PxyBY4+NcmWqgJBVbBsMdQqtxvqHsirKwu9uAyEUesXxzcvErvRhaCSprTM9qHTnpWDpdgaIN5htqbTzxGQ6tJMFcTCoKhkeFRMErNdmnjkwF1VITkbbtZwQ4OkPF7mVdIHoRldt5Ezvp0cda91QuYotCzZfctpVfI3CAR3oT6hrYAmYySoyO9zClsCJd5kn6J8RvopWLDOulbmYBR8Ie0TXZ5xAMn0gRsOzWRblKsTCysnGxs7Gyghyi71EDxBza9idoQHga74g7ILeE2OnTfLeMRlxARFedjXU63QKWwj9JVnRb05CV4250d8vOypfkI0nxmq6LtTThPt1Dcc6OdWuq1bqF2OXqEfjOXgldE7E6R5a7hUFRpDvVgXq9XTwYlWyjFrPXgdReCfPI693wuyoK4t2/fDhjE39/f09Nz8+bNOjo6RUVFCDqtnU7ZWF9LVmbWJF5l5eY1EqdaPLm38Jg+H9P69dIqUouXLw1tIHU9OU6vYPmiPJWfhbMRP+poIbmakYmfg5Obj5uNaeP1hObCh7v51AFHUCY6qp01N7EwM7IyrFrApPSsqve+vcC2m7VUPA4U/2Vh0ZD0nDPmMvTreHg4OTnZOUUkNJIgD1EnSIAphhwM9RyvJvdX3mcTsSEgZBxuYrTuvpCYbcpjn6O21m9gFggUOLkFDx1mXOv9CnDk3mdSstsfF0A1usv7d5sd87lqoLhwPSsnBxsHjyAjM/fZaLi+QkEllFATwavpDUBa8bFUtnMPopKIeXfdDIzs77ttU7K7TaAQcDhCS6g5o4HrGHn4sLrCrquvn26XMzmagZCL9VX1r90KExZby83JCWiYR5hnvah14QDaLaFI3u5nL8PCyCghL7Vy9UKXsFcgyhA3U4aVq9Yzc7reTsZTsUPSCKk7z1V3sniXrVkdVNgzRSjkkGM6invSEDJhuOYJM8fWIQTnbGTkcCmBRCLXxHupSeh3TNSJsSmmt5CIpN5tqvqnQguIRIrvcU9rt5ry62qbTj4hkSfASO5vrnzQ84TWKvoV3DwcLMwcvEL0XGqFg337DfSd/dLhKhaRhBIKtbvgLiOL4QCJnOdmcPhqEHDJu3V0u6ZNH0LC4fC1L2/rKm7Lz/Hhl3ZpJlLIzY/NDzkldyHEwcK9Kjw+hXBSBjvFeJGZusrp8A6orVCfbqkg4osSyjiUYPr3aOm6+sWF7pQ09i5CYAEjicfEeJxCkMmVFCqRABcjb9lqmDmicwdc3jY1lTOPYGiE+jQQmh88TEJGmStDW1nLKwGQ88RFO1X94/lkAjHnzjbN65kUIiH3srHRwYvpL3y+WbJYiJeTlYWVR5BDxswHTxm7ZKXLxsrEtn7t4hU8Z5IH+xIcWWR9iAiJSKnaJKoalNkBhlJXC31Lzyi0qcCuMNHbkJcN+wZAFugqxfXjUNKFrwbSTrDJHW1CjSsHWSrxye9JKyzILygoTLrPz7j2XEItvinBQpaHkYFJRmnDckaOLDK54pqB8t4LeNKwu7n8zhud5MJjjOIXhhAykdKoKa9/5U6Aocim1wRkDDdB7oln5zSoIQLZuFJKWDE0u/XvJ5SVK1c6OztDq+4EQmNj46JFi4DMAtwxI0zY0FSXcFNZSdvQyMjI0EjXRMtg27muKQPR8ed0GfjPwKbflSjFuDoUsCW5aquErqwEu8Sxx6BqnZU5ZJx9YGQjDb7nruV3IhX3d/Bo+IOunrtfdZGaUycIqfWZlKj+8xoky2sLozJqnGU8ZxMzU0T+633yEttcU4ADvrPs6hXvyj5I/HhI96P7TQ2dvdNwzY/XrVDG1vHyL5mtkb1aFh9wzMa6CSSPSpraoW83ZGcLawQj/nM5GeNHcLRErjhabfeMeLFLmU/XG/26+d6Vi5motVtMQrlvKnotEa4LXLdW2Xn0FshxXugxTR3HvMQL9GKm2InpZzbSIrtggjP9XTREOFfxmsU0jFNJ+UbqBj6h0ZvYl55+BT0O5saeuvp4GCYb/mt46rR8pXUzHFWbDARYLrwoaqtOD3sBhaPO7KAfFy95AqVY2CyiT2oxCl8AD8SOuI1M9BFN49OEEuaurWgXBx5Hqh6zcprikDEbLfXdV+GK6asrNmKbtvWN123kVoqrA0PogLmq1vHA1yDMW0fcdh2qqbqtu1rvACp9jDtIcRy9dt+Fk8PEpxSG2/3yyplAMqAnYyPnq0lUdDMJawa9xffZOE0GESTHY6vblVugBusjTogxbSpAzVjFeW1fJePUXO7PL+HQQKBSm59bHTmc0kNFhopslfh9ighwJIDBtOySkzY6DtPZk+YntoonFZo1J03AghnYra3t+bAiP2g7o+ZZrImeklur4/dWQiGhxjICHfSsDlyFsgG1yVpGytgNeuhOvblhNS8aGmrAAl9iIKrmdvcNaMtX96rqHc4EX2bf3q1/IwM8vL681cDFK/uF7yp6nhxU4M276+OT0t4fdmSZoEoq+E0o27pJ4XQcYeLVftbNF3Aw8kp5EdWQrE4KQnQ1MtvtgR7Kx8Ooql/4Gehu0TY0MTbaaqynoLHjzBsoocCKGi3wZlm3u6Ab5vy21Rbpbd7Tve/gZmHfmBRvG5WNeo9gaWRd42NkByJdxTkNmf2gyxBPWirY+HRSit1YZdx74ByqUVNW79ajh6asa84mwjlUWdhJenrdBjLg4jIZLt2HuZ1/M6H09vb++OOPYWFh2E8SiURPT4/ZqcaMMGHNeritMiU99RWKzIzUV7kluClCKQ11Yfiv2IlTJ52MBZd/RafnAMXmhKM6dHT/CyyAMnV9hDfTcr4dnqecVKUXMBmltyOFvnqLN0H7kvWBB35gF3E+ddJVV+XrrxdreCf3VsXK8K8zdnDbo/A13Vd0EQ0TaWFH6Tn4jp46ZbKFm03Lvm4cLu2hhDJktUXJBFZq9z5xTtYt1ic9nVYtYLVJbe19cs7GUAduHiBETEIBObDl+j8py9Ot9dF8G5QDUUI5aa0nYx463PRUfMWibYdOHbHgYmQUTatHN6FRCeWO0pqTMSXg4ZKOiIEdNHCd6+8oKajRjWvdvnGlmO5ezxN29KwsPslQrCf3vpJbSPetxkk4FI1kyIvLXYjvTHTdupBZ6dSpU3KrGIUs78C5BxWG3Pfaj+v/ePZ5nDpmo8z8PZ3c1qDC5Ourly9yOHnqxF7dFRLalSOTxVsYuJ/hGwmPUycdDPmX/YfO1BVa+UX3zcj+B+T5dsEFguGKez8uUGoHk6CzhivZhY4cP8xLR/ezmP4QrnzdzxueVIMW36smLLv3Jty2u3TAQWd/aV2oIph8y5ifOLKLj4VJvqiFWBi2i2UV9zFQzqL/FVA8NI7gLTZvsfCMQ7CVRzQx3Xn+P/ysBio100nRweMybNEjxU6SawUl93h62vMv+Mn9XhOx2HMB304wrCCNj7T27IoDLXz4tanY0nM5sDmNE6CYkRp58lsGHkcPzy18Pxsdv05EL1IhoIOEi47YOmG9grwnGzlXGDl4utmorxKUTm8eQSYFYkAVMCW+26V1d5zCzPGlRHh+y8Dr5Om5hfdnY7cbaGhEAizm8YP66gcuxkBWspSQOQSHpfRrOtJnEsFDzukt4pbHBgfaHUQF2LTtT3nar/i/9baR9aS8oDUsrNvcTp20NF76ww/8hyJy7tsslXWHCx/UEq7VEreyAKPWb1NQdAmErE9E093fWpOVkpKVlQ17SAboKqWj0B1dICWUSjBKvKyDljR8NAU5VNxGoAl4UKTkA7z0mw8HPfa0ZlyjfurkSWvl1T/S0bk/aO3PPPYfBk6X6CxXI0mDK+3knP3fixzshtmvFWWW9o6rzPLdzkG/6ajbXuEFdIuWajWBTlrvz8ZtltlE/NsIBTNAAGY669atGxgYwBIB+OWrr746efIkdgnpnAKa6H1+xcPR0TkwPjM7OsTPOwsORJ3Fj4JT+vCTXuqiQ1wcHVw9vXM7IZ13VGRGpKP9nTQQefuCs6NzQERSYvy9Cw9SBwb6c14meJ0/ExLpLc+02CcbLiokR9xydth34sKt9jEs5VhiCdkvU7NK28HzeHfF9RMHbGydL0cXIXBXsjQ/I20E9Ttt4aApM/Cit19Ld0d8SkY9avCkLDfrRQZcwWt6fdvV2f7A0QuvG9GPppQuG18+LmuDaxY1afGZr6Ek3V9f8DL2JQGugRSfPrJ/r/2BByml0yWamRCRWloHGZjQ8zIppRSukI3GXnC33+d45k7cMILMqOyJ3KCrBxwcL9+PLciIuHYmHszhCmJuH9i31+GgWwK6+jOZ7rGemMvuDo7OwQlZr57e9ffJRSaphlpXnBpTDFcviENNDx+mDsIe1Bnmc/bgEbegyIjI+DQCeSjqYWLrMPA9kfI8Ob8O2vCvLMtPqxwce/MyKOD+uROHHA6dzKjoQZM0mh553tHe3u1saDusJdKrl2nZZdMjHroQ1Vf3IDwd8lP+y4KyKiLqSugtvnHSZd8+Z79wqLtEai95mFIIu99oc1pubjvo9KS+7MRH5b1ktD6gqhL4LiMqwHHvnlM3QtGOCvOKbXc25iVcOHeufpjYXppy3Hmv/f7jqdU90wMbMrWF3JCVkJFTQZl0p6Q/9ne0mxEavK0Jdq2KgK2S5g6dE0h53ssXaKn2VqcllMNM9Ve9jM8qADVE7iy/6XZwn5OLXxJ22H08+fEtF0enS/5PMzOenA2Mrq4qePKqCt23HHgakVjfj9Rk3uKTEcnrp8xplwch+Zqt0fN5BRtS8vPE9FLyZMNEqmIe+8WXTPQ1hp496uB88Gl2QWLwrfsPmgAH3/e/ejW5rDgnNb12nNpTHJZahm79Dcc9SapsHehpb4iN8j975mLMvV3r6B1Bru8dVZOyO9xPekc74S8kFAw6OjrCwsLIlJXZlpYWMHAFBATAbt/R8bZg3up4TSotvX31W1HMViRBfn1TqzHpDLOIUkJjd5yLNfMPJhUjhNlff1i7enZ0v6UX884LyjtqMnNSdZ4dwlTDfi+m2To0M7Qp5nQrySfjd2tfU95VbZhzSLO1eOZ4Gnt2sfy2Ha9fr5QPh0ZFNfiILQYy/Nfiyj6e/rk0nnfQd9KGS+MaNFpKJJGngpndQaa1QdDyGa4PE+KTLsXN2XLQb5Qi6fr2NQpmB1s6qgy3iMi6pCE9SbLqoj7ZqKX3T9fBnwer9wgqjBQWFi5atEhUVBTwCGafrb29/euvv/bw8GhqavLz85vTAQEqrDpUDZGMPmDqi1CHb7qyUHfwhzSteTh5sBjae0W/Rf8jgsIgjrwIPr9Vf4u6sVNmAw5LLRY4vPBwdvWT36oyUtAYyJN3/VHfasFOA6qIgiYGYpyqbbQJoKuk8DsseZR3PpnUQCW/zRcZbUMwC6Spu+WRt9mcOjA9pS48WTjkqay/LbVJd/JkzrAj15j2I2nWtWqU94t3Mnlo+jA/pOmMT5/IgumkQncqlrbJbE/qY1LQA1ykmWFOJ3Uy1zP7xXRiSFj2ZwwqaJlM5hFLAwkrE+yk1WRpkN7N/iRI73AFGhgJW7jB8vzBHjJdd78SGqarN1iWEpNRRZql9TqrEU41nrcXRU6GNVlBlLfNFS1PAq4rMTKqE9tAnHOnq0yOyqwdBiERiG8HMBAxEa0MGNd0HyGjS0WkSQ1rGDMs0ukEwJIcbc+7dGSXyubN+87cA5JLX31+4stX43+Xpiw2l8nKyjIxMTE0NNTT0wsODkamiObOnTsHDx68ceMGDoebdqSBhs8Sf2Lr/Qf2i9+ZpC/cfMG0FjONymiYB8zrmebpIP/uVLzTSf5Q8PO2KEuYwsz1V8x8ASZ2zmcJ0EADDf9IfOESCg000PBX4vMmlHk0eEN5f9Vw3lNL+cD67lxy+Kemal5ioX7MMsDvD44m0n6W+LwJZd7w6a33TzDeNQuf1brP3LcwyZ9wU8rfnSsafgf+AYQy0/rDjJsopl5NG/uZur+HOmmgCLgPttYUV7aQpl5NhTe9xkSdGTz1nTgxSpi6fKMmIz4uu4I0GQB15grVZKpQz1Pub+N6m7xZCcD+zTT1ggy/KX7yLLGbhO6BokclKdPZpFJnMsj0A663Kb+kBv+B8D+w1DzTjgb1vYU2ylSOp/OCvQCPpOHOosLqscmfHyiuX68+4LO3NC2jvPvtZ1MV9zZW6ttcTZmAmhXRzBoZbilKyHyD/B69Khr+ZswboRCJRGxvGEH3kicmJma9ftf+5cd1w+behKjUVHNdXueQGQ7vLlB/WHdttskv8GOkMl58+TLn2/lQMfJDwj91tjYH+JP35K6pPdRVJxHI77ya9eHbx1GntQySOld731F+e1c7A9PnGj+2xzM0vafztZ/oJntk9gezfv0eG07vls94ddhmJcW2d29QmuVvts2fGbcNgb/k6o0buKPrcO/GNSupMOTk8xoXXsIjZ4SZdqzes3U61vpqN/+mxC5MpJlLBmn4p+CPEgo29+7o6PD19VVSUrp58yb4+eLFi0WLFmHasb+5v4Mb7CkpLyrMjXsQ/iQPPWfR/qaptQsql08M99TVNpKoxNqqiury9MhHjwtqmvvflEQ+jIjPKgcRpx2Wl9599mVqUtiDJzWdg1iA+MHW54/Dwp8kdI3AtLU21VfVlaYkxdf2o+e/UD9Dbbnhd4PCo1NR+0P4x8dNObilU+rbyPAEIDLa2vi6EtOEQwa6G0tq4WnBzoKUkKC7z9LhfcTU0Q4PG411fDrVLX2AUnJfRt8Piyis6cQSMNxZ++Re8N2IuB7MuBHKMl3ZoVxLVp6PhmffKKP1zyNCQx88q+6A+R3tbqrpbC98kVRRB38CgauzKVOah2PrQb/XCTcZ+LZn5afcD76f2zyIpZ/c3fQi4mHE05dvRiY1+jB1s7Y3jeWVr188jYxPLxjsbU+PDo+IzRoiEOFrYm9mfPjdkIe5NT0g/tKKop5hzJbAaG1ZdXtrc25+CQ4tm/rizAdhYcnZFajO2a/zO9RoA38SLkjzHvIh4AaKisp7MYYa6S4sKyaCoqjLDw+5Gx6b1gNkv6GavaJLNjrdbkJtEVW+TgkLe5CeX4vFMNCUFx5092F0BtT4RsiPDlur6N6CyuyzuIeGfzrmgVCAYOLn59fQ0GBlZaWoqAgcW1tb2dnZq6rgSXKstZPxuDEcbgwF8D82MUqaelX6zJ2Ojm7dZhlVGS46PuM23Mg+LVXTY1HgVeXTsxs55NsJLTwr6ehYGVW3SHJxMcnKSYGHNat+CCjC1QUZ/AC+FVVVl+VkFlDM7xzHD9foKPFzy6gobGBh03PsGBt3s5Kgo/uaf7PK09phbEQdrQ/ewvCTlIbWZoGVEtrHOkeHzm5Zv2DR8uP3EybQzt8W7vnTgk1RTWQqQjxpJStkdKEuMXDNT+vUtLT4lq1XPhIz0JkuzkP//SKG4Lj80Bt7FzLyqqrKr+YVDnzdQh5/Y6PIK6aupyq2jk1Ov2WcTEWH/RSPrQu/+0Zhj2cfrujgpmUcompaynws7Fsym3AlwZb/4WXgZlW996wNFRqIqZGnVy5exMyjExt1nu5ruv9JSGrKC9Hxa2YBmm0q283KwyWjoiTAvU56f8kwnD+hh2tHXbeJ0H39jaymkgDzqg3S4mpb1ATW0Ol7JgAyvLGDl5lFWktLdu0ygSeFZdb8q6ROPAJRjWf5CCzfcvPOdWZ2vV4EyY+5vJqNTVVVlY2D0S4gnoSuVSNQCiPiRkdw4+NYBY6MjEF9XCoVPVvXvZGf62ZuO7UpifUbNreXgyAD0dcslvDteFOWLLx0naSWlhzzem4T/+qiENlvv/+FX/NRLTkjynMxEzuIiJGd+fCjvImRUn2eNYr6OnKcC7lFXTtHkaHcEHMp+Xw4BNBuMPqc8IcIBWOEvr4+zOgJIJHo6Gjs1YEDB3p7e6f9FD/y4OLk5OLm5uHh5uTgVNA8A8+WoY219NnJVcwqWfB3w6a1q2KbWk9Ybd19Ohb8ronzUpHQ7SI0i7Oz7Y6Anc1Kll/dA7667qikf7G64Y7+T2KaDbBZj1oJMR+4nZjgb7+MayeahM4ti5acT665uk+SX9EZlUSoqKo74bLGahnzu9ALqUphxaob2V21L25oyJsOItCYAdpJOjSF+V3DSpHhym3rxe+8rNojxGYaAA9cEHIDli+WS+4gFz88IaLrjZBzVnzH/qgajqrB26Q2mF5obUpm/GppEDRYMx5482ITbmoSga/WXs8Cgii8qMnGbwbPliKEI0o8W488zAt3o19hUjw0afsaPVI/sVNN4/yz6sHS28vWyqbBwulRpl96r27o+VHd5cI7oFkE5I0+M6fJZWimYBx2vLEjZpslLW6Bp+QrVitELIEo1BVry64f3JR6kXeNQAJqkzDsoJqk7om84OPLOfaBRD901thi5t7+JomD23IM36rMyb7rOjwxWH/vOBODXN7YpBmj7pwQPSE2Tm5+Xl5efi5OdqkdyfVQmIJJHU2TYjGNyAZURzpiskndIQjU63F+vqNBZVeNpcTt7sBYezNEVwqcTWqJNuQ3C3uDUCsF17AdfQiNReVf2cUmbJ6W5PPLz2zw6nhSud/pkFYQdkecthK312sao3xmmLe7je/evbtixYppQ0pnzpwBRINMEcpQR23CiwQwFUpIgP/Ss+qnjzK+enhaQP4QNC6DrzFm50lrbTtuDgglBgRVn3hDVVS7g9Aowa6Q3IQnkgasNA3dA1+TiJQ7J0+ZH62qvqklffwhgUIYJyIBFltcroTF+totW8opJMDDzcPLtoTxTnrJcXNDW+8kyCZEAnrGaNSJhy/w9RvS2BjoKycVha7El5Y+vaIma9ACMkKF1pJAsp44b+Z09n+V4sfDp4gjt0nwbUmo7AEDNGA9TdEtoVlNL4OPi2lfwbVH861ax8PDxy8gyL92repeHxxp4tFJK8Y1y9m4hVz8EtBD8ejC7VChBgNbFpl4b7vq/rP3iJTxMTwS7Waxx/lSQuj+DZrhCDy9DtcliRQgF3SZKWmeuve6ITuAS8yOjFAI5GYzbu7Y8qZrJ/QW068XFxIQEOJlWcdt54Va20BNANnp6zlfT6aSiE+uu8rqngezhfbsEGnNR6k+rmaGBwYR4tgYsfypl66CaTe5kWc9T2ZtuaOhvENwFdIWycBh1TNSbS7NxcImICgkKMDKIixnVgSJDC6YEAebc5NBzSUmJCQkggpML+wZI1Mp6GSkNlBI2jqlBg9yWepvt07dNqshS5iBvYnYv01J/VJEIShnIjLoYqTl7BV/z1lsR2A5cThHTYidnUNAUFBQgIlJXM2xYWjA75DGwsWr2HnFz4bFwhMn48Xm2oqH70NiJtHubP18MA+EQiAQAGtYWFioqalh54wzMjJiYmKmLw8Hfyue+2hrm+7YAWZFVlutTHft8xtEJhftciPOCckdgKYtCNVanLzpba0HTQx2XoT9pDT4sISUYS++UZpH6WklDvQZa01tF2gghxp4ws3SsaouyJDe5Ci2PXF0C+9hn+jHZ7dziJwewBHG+lsCb1wrb2s6Zrnd7lwcdmoK1QLBuQittfXOR9PeKcZCfymrsSL2qoqCCbrkQ6Jgp8LqIjYwqmloCqtcBlJFwwYG8Vuv0CWS5iiOFQoJNcMpga5SW+8gg4/XfCefWNFPIIy/igm+8zSr+01JzMtcEoXanhe+dOlCn9fwvDw8FT9SqMrCmU1CYuzkFQ3OYbaFXY3FVV0CcyOchQ0CyRQqdtIOtdjes01Z6+rzuq7CuzwbbEbgMf1mAx6u2IZu333y3HqO3eMEfE/9/es+z4uhySU8JMoRJxMj+4sJIK5n3gcltTxBLjpz70jJRBbcd5XkN2hAY4y6bLFexgKM+yF7hUUUlbeJ6QK5AF8axCJgOzxaosgocsK/CFRofUGit/+9DliycLToKX1hb6VtZLnTesdOaws93R1HC5pwkKPBu7ZHwszGT4qG0AWnbC0RXbUtQiKHAD+OmEnL2ftAS5EIsVSFXfzko6p7e3gsHnchEykCy8W8I2tARJVZz26GxtSWZ6cXNI2RKY3Z1+gXiD6oICHD6VqGopjdEyJNQvl8MA+EghlPUlFRcXJyQtDtHi8vr4YG2ICnV2S7a3IeRUU9j4V49vRx/Mtc2FZRCSX97tFVXDaQhwhVyj///KRx+NEZg5W80t6+3tL/oftRUGNwvJp5seijMvDFoK7Ept1X04Hf64cd1fcWNz5Qp6Oj03D28XFXZFolkFJNaC8JZWNhdvEOvelu/guHdGpz1z5NVZOjcDsGEApmXqA42ILhO67TAbdPW/Axr9evm0BK7h2R5t0CR0MqtKKE8g7htORqOro1adD+PDFoj/oabg2/27d3iPKuNbo8gCDZAXvpftnwqjTPUlNQaqtLaKiPEDfDLv+U9toohpU/H/IOved3bDGbYGwDZroEoQ7nK/y0EPSm8WJf0YXLLQ8HBJw3ZVvI/ChrKO+OwQpFfwSe4p0mlP6dmwWEVPclRJxdyWKJGiJu1l78k3/FSHd8MMtyfluf0NsuFouXygXnDVAp0OIhKBxzxS3bTzwHT+Fn9jBLHgYPnVnXlnPfoQxkGDMtUTQ6GxBwTPSXRUd8i0CW+nNuQJPEjo+Bt65XN39YrDWMUL2d1Vml9UJDQ7cq8YpYenZTJy0PDnfWvXgc8Swm7vnz53HRTyOeJrcPwjkkusHVpsovG5Jcg1V11D5lOrr/BBQMgCjSrtjTrxU7dfv2CT25H0R35U8g8ft56KRtMrpHT9vIcyiYhYaGaEgxb3a5W5F+loGO0T3g3r3rezk5TF+3IcTKx7oyIk970HqjbR5/PpgHQsGMFdy7d09cXDwgIMDf3x9IKMgc9new120VWb5BqejJ/8E472tlA1RkrPmGh6OZ5a5zPtd9QqMmyAMB1x/W9IJYJp7ej0wqgpJEUW7K49weXO3jcx4XHWysTMxtojImr84oTQzdsc1om6VtbDG0spvw+NnzLPhqpgmRtPtHtxkamu0+mlE7CH72lGZEBUfChQnULBa2L9OW/+S6d+qkXSdqb5Cbo6G+4c4jPuXwC2TwTd7hQ07h6TXISIOLrYWxyfZzgbGoGgspL+q65VZDw61WPnGlb5VW8N2x129Uo3dXNGQF2JiBL3bfjYPr1i2vo29GV0yVGLYTSyl8HuK4zyU1J/VWUCoqzowm+ngXtMCVi+qo27u2GW+zdrpfgJosmlQrnYh7FPX8FWTF6tyXtx9kg4exzuIb4XDpZ6A2znWPmbHx9vMB6ZPzh7HOh+evp7fAyxJGO0u9bzyD2Sf0+J45aGJs7ORxvRPdovpVBVpoowCB9rd5NM+EYy6jTWne5x53TeoM4GN9TpoaGJjZuSc1wRFkqD7N1eXo3ToyQu64cGyfsbGJy/nb6LYOIfHc0e36ekbbdz5Ig6tC6b7HFTYcHsSGARqffD6YT8W23NzclJSUqqoq6hSmX2E2Y6buzHt7s98H8btnzO/roXxwbHv30rzfCPT9cGbf5zTrzXuKoO+H/ut6KL+Zx9lFNycV9XcMF31ctWO2WT3Kh+vv7a2NaFhAoOt/LsAtlNo69m5GKR8LDiG982a2T3xfxR5eQe90HGqzg0YnnxPm+V6e3wHUPA/WkqkkIhG7j5JEIsL/0KPKcB5CnBR7p+0qoSZz4LoIPOCMXs0+bSMHM28DQ8Au0HxrqehtnNi1i6iXt7aE3reiRJyevlPR2zIxozVTirMgdegNpRTsbnjiZAhUMpYcaPBm1mV/k7nDjDC9NVwEs0t8b90Rpg74n1E45KnPyVPX0L+TL/LkIhEsHMz8F0wbCTP8M315/XSOqNA+z9RloyAwLFdYykDZz/VqTLQ0quJCovPaJwuNMC1TUKdKgkSaKmciZnro3YioJMxCE/p3pDnnbmA89dPZloa/HfMpoZBnXZhKw78Ff5ZtCtpU5zPEP+AsDw2fP/4Mu0N/d55o+D2gEQoNNNAwb/jMCOUj1un+BMt8/0R8Ujapn1oon/QB5veT45gZwOz167mHNGef7xxo/HR7EHPI3kd9TJ23/rMxl9J4z8/7H33Qy/R59E/IyWdGKP8ofGi5958LuLr7F61xvl1+ntcwSX+l1SVov55MQa9SmCw3dJmdiNk0xSzxw70CCoX8IdNcf3ZC0asd5nKNBAW9JIA63Vap6LUMaLIn186nXaYs9U82bHgRwtu9grlmaH4IBbvKC7MdO31vAHbkffoOgT8WPpZR6hgBT367rTxt64M0NjHxB/Wz5zzqzdXwwpwG0k8ZM6kkwhiO9KFy/NBONQHfPzJE/Gj47yeOgsP1j6A6iu8PVu99ThodHsaTKBN4AmHq8pqPZpf6IQcKfqh/AP+2H1LG8eP4OewQU0iEweHhCdJvL9uAXjIyNDwyNjY6PDQyihsbGxkZwaEGnuZ0W9Jv+5hdE++JWxONdZ1Tz79LjPuwKP5uLnFjI+MfL7ff0mF4n6HfU7wgDzW29xNIc2WUf7qEMpUNVFwdiLdWVglPHkbe3qKEHhQqSHE3sC5CrwOf1tKmvh/GR+OYq6w9/YSOSMQX4TFhcVAhmDKjm79PK78Z68wzCr/itzPHX0nTEB64JJPez+W0SSpMKw/pit+h7ZRaih6ug96pSV7nMyo7PhAxpsyHjIZevnjmBrwsFd7jPBXae+GjWjSEqj1mdtmNlX77Nh86X4ZMXRKMpYg60fHo9Nla3OybXabIf/JhuMDcYEdu1/hUHsb91DXCalFV/xlxIm+TNxJy83Fy+SBloMHb0DobNyvzs8xYTanqjDYkWsiwsnHyikpIbhAW5OFkZVNxKOgmfrRe3tqvgn/7WnMt9FSlZWX1TA8XwCsLRyNvHjfR1zXS0dUzt79VjoeHP084KW/epG7mktQ8gSBTNqXQz1PPbbfzzYSJJ38gmb/V0KjU91I1DTQS0svHsaExdeAhxGh7zBs88t4FZrAQoM5iw+X9xvKyshomu56UQD1PQluRs7WB/CYF+7OBQ7CikcE3+Q6m2nKbFMwuPx1Ev81/dttQQ1FeWe90fC2C9F8y3BqaUP7BxLyP+bGH0tjYePr0aUdHx/7+/lu3bl25csXMzKyzszM5Ofn8+fN2dnYhISGfGvLY4MDwGKz+8eG+7kFUYZXQ8upFQlP7ZHcaHejuH4fDI7G3szj51cBUjY3296FDGIIb7BscHv9wlWF/J3D9A+iFoaTRzp5hyvs+Zj+BFHS0tAyMYXbdcM4GKio2dyZrnzjW1dE7g1dI3W2tXcOEWUFO2i0hDg6NTBoB6eoaxqPRon9IY0O9faPvRTqJ8f66xJSX+MlKJQ4NYgaNKAM9XUPYmeZJ43O4vlEy0vtEnE8/PAv6IRBA88LtZl1+OChrsoh6O9u6+qfThbb5oVMHj+0+XQp8dnQPvQ0NofZ2duMmJg2vQCUbGGIBL6N0VHFTU1FiXvEgmnRcW3vrIDxuiZA7M+V/XhpRP9l1B7q7h0YJMwLE9wxMILg8dga5xMbRqaxSahJeNo1Mlt/YUH//ZO4Q7CwCldKmIiSx/04eMlh1TJL/FREZ72oeIr4tqZG+nv7BqbrGLGaMdeUlx8bGPN8l9ousvdfzmNiYVxVjJHxna1vvKH5GehDcUE/f25rC1Jpbd7IxLTdyexIVablxEd+2e8hIkabJJqPTQdH37ly7cTunh1R62+b7JWK+UVHHdeXY1Q41E7E1G/Rq0I50sXVbUnqwMMk9nW3dA7/aDkkTQzhMuZg6NDSMiXz9Xd3DOOLMhkMcG+zsQc+kUyeObNOQt7oF3M8LrQ2uwSGz1EFhfaLaUoSAQ3JMwrJRUU+OWcgukzIaQkh7tfjWKO+Ninooy7vCxvsZ+O6Y3PrVWw5HRYUIrVhvF1lNqY8XXr7K+NTDx1ecVq4Sf9yE9MZ58PHtb/5wDt7FPFz0BSaVDx48ePXqFS8vr5KSUm1tbW9vr7GxMfgZFhbW09MTFxfHxMQ0l8UjdNoydumQ0VK2FXwinJw8gnY22xX4uRjX/Oz+uBoZK96x2+5J2cDTAxt+FtvEzcO1ehG3X0YnvjHrqt02ICqkuMr9IiXHwcWxSlx5u/0OSQEuegaevU9rEULeBmGjHPSW3WsWap4BsZWvgles+YVfnouNca3pnp3bNvFwMK3Ucjg7AE2AEOAJwtJbQhwGOS0TINUZrmZbrL06+vL2SK3g4OJiXsty+l5WSbLPyiULFi1leVba0Z/6QGbZWjZW1hU8Rs+aCZThqn0GUpzcHOvXLj/oGzdtVYTQUXRMh2edgAj7voCu4ZYThmJMbGwMq5k8A6DFgMqYE2JMDNw83Eu/+3GLSQCCtCmJ60YVwLN/D4+YOZzwb6p+sUX3HK49a+s+fXFxfnWVQMJEm4WOJBMrKxMLy9GwDJBsfEOKIgcbOw8v84ql/11rlNY0KQI8u3zwl5++X8G7MautP8jOiJ6Vi4uVWdD0SjsR1TGDxY73P+e8eim9vBQPEwPTtvPP4ZHfzlJ7Lm5GVlaGNSIHworRjKCnP4nFEgLayaU1d87bHAhrIuNyNMSFeECxrxJ2j808a6r243ffiW117BoZPi+9gQEkbw33tsuJeEhO6XvklrNx8zKuWPjf/27K7yFPdarxkF3qWZ3dVw/oLWFdJirOvX4th4lvKhkeDYMGYp4FHPhl4Q/LGTbnlOY5q6z8RVyJj5ttzTLtl28oyMSIn64aEygFetYthx7gEOQdi9shlnz7ItDbr0cqzYT42bi4WBgE9vjlgOwE7uZY/YuwNC83y5qlrr7PMS1DWFN9rzl5RZ7DER0ZjHNewWhTWfbU1lLlYVF7Z0crSvmjBlIsFjfhTelIX6y0sELQK8jCRDws0Cc2smqu92BgY01HVGUYObgY6dcrX0kl1gVLKBwqg0LmoPO2rSfv5g83PmFiXsPGz2lzwllskyQHz1rp7Y7tw0NnN4qg5cZj5pUMWu3rQBtWRVU9aS7WdSvtzkeWpPivWrbw56XMEekF/nuUAu/dUpJVD62FElKMr72Ihu0QxpbEVhfbbR6PoamMvoIASX6N4rpngksVoythRitO75FS3FtUnci4njUZHUFKb28X0b0a4rWLVXkXyrhjp03FNI7mgGp3ZuO49Qqa2vvNVax5sIfS2tr6+PFjEonEwcERHo6d6YD3HAsJCWHPWVlZjIyMb2Vy8Jc0GOl9wMBoq9n2bdvNTA31t918mEuBrQe8m3C3klwiYluLw4e7qn3LKF/YQ83zlV+t7IdMZClIKAdm9IVtXcmreHwQ9LTtMly7QzqKEg+rS1YiSJwty3rBvb2k8eMmG35hM20YJkacNhTcYoWbqORcJ5/WDEvpvJbYoWtR5SmX//c9p1/xwECG1/ffLr6Q3o2vvMAqoJJQg4o8gOIpLZs5F1s/roRNZ6Og/dUnt3axCCpdmYBXJp9au4Avt3fQc4eutlMIQu7Q+P6XHeFN4MMnFoosRjczHrqvXi1VDcKpitxmaQYPuKHjOjJQYsj4P9V9F/pIyAOnTcxqF2HDzLtGv0YprSjdiJPB9noemNnsZV3DuekcgrQIM8nez4Hz8JC9GlZOV2sKH6zn2jkyWq6warG0U+AwaeKqvSar2lEYcE4AwwrerOHhS5t4WUyv9CPkxDP6P6yUfNkGuwcRRj68Q4DFM7qw6sG55Suln3ZRkb589TUsqmczYYlDCqUGHNFdLGBaPwoy6L1gNUPUyHiQAg+bkTdsWc/OrVitFtcEOQHaiyEWifJqppSVn96xyfx6R723+Ncb9wPnusgre4/6N7UUKaxZHzeMRFttWbvRGbbVkjDWpeJ3Svui7OhZNp7qQ5AM351LfhB71TVNKLhLm9niWrtOWogvEdjdMI4k+uxiFlGDdmUpeJg6pN1ARu5gwCvAs9YcP+i7JoEcHRVi0w4sKb1ss3y9HjwT1ZclvZLPObIZzTIFmboO9YYRm7l/AZk8dlJehMn4LEhPc8SpX36WeVw7eEPv+wWCGo1kpCXBg2EhU1wLcTI9VOLYOGoSouL1TslvJfc+aM0M5KSjY+SXEGBe/pPckbrBZt2NSl7PKsFQQcWV6giIHr9fDONFRbmjUrwn7mWBgJ66GC9i3lo2gVTEXOJV3p2ddoN/w+58OO8ctFRRO+Sbjau/+5+v/7fnZhqxP4N+xTd8Jt6Abe4ab14v5wKljoIQ5qUb71aMVwVY/rBIIruD3J1xcfkClZpx3HlbQ1UbaPvmojJ/UkPVdnExG+9sUDlHxYX0XbIQzDIpNvmldASctGNdSCeqE4F0hXKLW+U0wcuzWh4cUrFwSEp5yMdv3gmnZpTmxIui/JpOh/Zq7PBDHcZvO2pJ6F4EPfa+FYPa1RRkDkc95mENBTNZEBkZuWrVqmnGAGxy48YNbEHK3t6eh4dnehcKXZMbT3ty28PdzR3CzcP9THRyA6xGdKbiZKy790oCeEoIOCapeRoWf8Fdrs0PkfFM1U3aQald4dsEb5UNw+PyWR5c2hcqXsUf1d8MOvBTC16PePB/JHCX2p6jt8FDZeQZ9U1mbaMVQqxb0t4AcYN6UU/quM+TV7HXhTY5wtQ0P+PgMKqFza9MQdEjoQC2fzKajpfHVdeaRuKqIhUZNBPLm/Zxs4dWjaLJx9nyckSV1V+2N99+IgYZSfru5wVqRua7du00UOFdwGj9uuq10QYWPlkNO2e3zDq44oPN6vH1aQe0NiagVi6tmJcslda22bXTcrv+j8sZnNxP6Ihp1qKl8/rJeW5ZNwTpkOCQD8vpAGkOddDZdcC7tvgRu7Dj2HCKNNe2eNh6h08YibPzq9vb21noKK39nuNZaYnWRsXgjCbYJzoeSstrRRVBDiXg4Wi1X4LvdkphyHl7RctrWC3E+zhuUPZEGx+cbZ8/fGTPuXzYoSbanLZK2frFbtfi5JJR271n724L5YVf8/mlQeV6IkooG3g1kssqLtqpml9qGK66I7eGR3izjv2Rq3lA9McVazLzFA0O2BsLrhPetMfG3nan9qpv2DzvP7cSEfDN7YKR47IF2VVSmnBvCUWVP7mz/aChtsN12HCrY6/pbNSAZzopBNQeXfc2RY1TEeXIRM0RrQ2JwzCMZH8r+R0BVzx0lrCL7LK1t9ttxL6E3uQElBoo6EkCbAnnphGrRTAYGNrkN2y6lViDZr3TbLPSqZBU7z1C20Kr0ST07ORmCcjrmewz6KpN1LW9AmuZ5bfa14wRBmuyb1y53QbbYqU2O7vRsXOmaibXo8vQWWCN/kbjy+Gw4RFgSfabSTC7h8Mjjs4mWrvPP4fhE8ZxQ+O92Zd4ZR0Ku6Adbhsd3aMB2d2ld1n4dWAp9Kdys21I64WTnu06/IwbNsNys9Za+T/m008acu/uEVZAh+rhV9wcWtUjw97OOwwOhAGHc5uYE0eR6ONqHDZn2zoKZFevixuChxZI1Olpc0/I2eO2phpCIvYvEq9v2GyZ0QgHhuYHB1StHJKSw4UELHugX2rX66CNQvYeR+21d/qji3Hjd932KRgEgSDSvdRYdSF/UX9ra2l+CAVjDXFxcWw3p66ubu3atU1NTZgHKSmpCxcugIcxaKAIzSd5NPVxkMcpr5s+1338vE+eu/YsqRqZHEtHD5ga7T4dC7zF3nDZoHwc1G9f4R0unodAQlHfpB2c1h1uIRhY1AXbRdJhXtWr1dkvjhsogO+fmPBdji8H7tetlS0P+YLKzr/vpqRg2TNaxs+im48uGpw3lHb1eZIbd1NA2olEpRLqolhZtYphHRRtFjyRgAqu6EyYOlr/TJFL2t5qt5bxmQlk2HItfWAJdv6tU4yVMaq68bydueWpF8hQwi+LFx27GXznTuCtaxfPBkR39fVUF2c/uX93//YtK4SViocmtwRGq9M9dWVyCGB62263eJX07jN3IG7e8L4XHnRJXlQNM1mSHXaMW/YEkPw2sGk8K4d8FOqsa3nwel3JI05Rp7GBJDlZg/BC0GB6XTUk5dQ9ggIDA27dPH3lVldnubKITGA6GkzLXUk51aelqFkIONZO2Ijz3skqf3jeadM2H6xeHhzeKqEBn4mQcfCXDztuPxEHX4w12auLn43M3KqwXtPeDYQf7Hf95LlbFd0w+3D5lVgkxq+VUl5xyV7L4lwBgdhXXprzIPSug5LAWh3X8rZibQ6+Yhxurxan1Fbb4KDAIH+f0ydvFDeVbOVi8cpAJxIjmYBQUt9MtQcEd1lNEBCKi4nh3osvgEtJ1AVFKS1UQoEbe4BQTBQ1zz+rQcbq3NU2pI3CEeCF1zZlq5DLrspcCvp3QSy3/S6cvhhb2IZMLe1hhOJrwm4ZDCSYNkVhJe/4OhgbpVKbX/7Ko4JrFnz696qxOt3OzhCQhy55Q8YZf+Qox8Go//BVJVZWbyryK9sml3VCDxiaGJ/XM5BxDoZWe5D+OGlulaBUOFCg0tTIdnG2Ew+hwZ2DxmqWnk+gn6G2lNiXVZmXBFhtqmA77LKUljseVNRdep+d33YA9NK+FF52/ZfN4PvBbcrscmb7Jsvt1LXizoks/22CJqGQ6LpTONm060aHrzjtMHGNAAFdVmC+D3i+9i6P8DYbJyseHU8SekQbRtpaeMB6TyRqHBAZrNBfInLysa8S57bkWlig5dfsN2s55xfHrmPbUIqu9pQGW4lsvup3bhe/gQtaKSNnTKU1HKD5oYSLClwO4cgcTlfNj4El8FdLS8vT0xNzuXnzJiCUkRFYxElJScuWLevv709OTk5LS0OwJSPiUPSdM3v3H/ZwP+HucdzJ6eC9mALqJKGM2GprmJ+ApiSfXXXkkHUFD315fvQcochYupyYkn9y530DFl/05H7niwMMCicrMmIOqkqAmo/QYTwVDcduL1MZEwcv8JB/11VGTL8P38hPv/RIeG5llNc6OjqHeyk5jy8yC9nCsbb20cqVSvlwWlwgxuv6/NUgVmqo3Eu4pkVH91+mowltgBG89OjZBV2aOjpenFdatFi9nUg4t1NNzOj02ESr7uq1urdzqdSxy1oqagfC4+8d4N9i3kOmNKbc+ImeDQ0SZcrK5INKQuno4lakkyyX3OE+KrUywkxWZntJbaYu/ffbjyW0teVo//gN/5ZLINMynKssrj5ryHgk/H90Wp53G3PvruawGet/ISKoeT8XDDIkb2dtLsV9fRRq0dNzPLL6VXjCOTXh71VcmtrbL+yRpfte7GUbuoQKWzl+rxCDvXdkweMrzMtFggpaO7Lvcy1msYqEpI+aU0FuuarQLZVMrm5PuO6wjE2kmkq5oylGb3Cmn0Ipun6YS9S2sA/t37DUCriZtiSWlJ202Gx2szrnkMHabWeHKJTawF2LFE3TGqp0lv9yu6z9mYPBcimbagql7ck1Pi6DpDZihA37Whb7qvb2yKOq/6Xjy+x8O+U5I8eS0NG6T1PN+jQktZKI07L8CqiEgkcllK6tMmJb3R9N9JQf2cyViBqZibugJbDzUZG/yxIWjbRhCu71I0lOpZuoMdEpnQsY9jWtNca+QF4gXdST4driXNnRkehh8S2TfsYA6bb2dz8wiWc1tif5bFu7XPE1XFVHLUG8ifvvV/8xPx9blpf26OGDtOzSx4EH/8ciF1fZXh/vx7SAef8rXMEFrYXfaOTWt1/Yp7ZGeecbuLhOJqBL7Kc28R0OTgOjbOKpHT8wqsfWtz10N1y/yaKk+AHvt9wBSVUvgw/Q0f3nfGRtW37AKkYjaNOi7+X61XJJ9XAJ6OEuzVWb9tVTKM2RV3i5jFLakdc+uswaATDPPUn0q7ZUDg17O+gKah0bwxMuyq0NrAQTrdHjcuLffvX1uURovwceqoP01mEv/zOfvkNT85t7njsXMMsWDnQaSnIK7fXvaC3Q41+w3TOQTBkzX/OTtPb9jvZsQbZVu+4XDRTfZf1m1dnQyrznFxcx8dwvhZsVd8wYVf3g7PhPn/JgIkljY+PPP/+cn4+ZQUOMjY0Bv2CvgoOD2djYoqOjvby8MLWUjweGbTfgvI6dOBsErXhkRdw0d4TGX4drog1dE5Cxckcnt5iygVQ30+haWAv9r+8YnY5sLs8OcLEFPSPrmMm9bLj8Fn3K8ez1KPBQnxDganNkGDLLIV4+fgU1tY2yMn6Jr8vTI7bu9AUlRWpN1dU7XgcpscbG9VZOPbrvMLUZX/7skoLJzjdk1Nb8YMkhXX5eHh4+vi1hGZD2M0NPgZldbFX3cNkLTWgyl4tHxTG3j0wZrNhvKMHFycHDJ3ww9BUyJShOvCm8fXBXKbY3ga89ZcHDycnJzSV+M7YMuDTEe2/h5RUSE2NlWCOpcha4VD09L8zHL624RWaTrHtIbHtVop7ZzYmhwt37TibXorSEaz68Q5WLi5NXSNwnvgy26I5CFXkJkFNhQWFhg6OFvTAy1JIuknXTTEJCIr1r9OlZW16QDR5B3Qtx6J4EZsqRHBXkobRRWEWan1dgY2AaJBpkpPGYojQHJxe3oOrVpHrQlqCuE5SO6y1Nj+fXvQn1Onoiop0ylCMnAW068gjIX75bDgrV11J4k6ljN4lw01iFg4uLm1fW9X4+/LC/zFWDn5eXT3+nqbz6sTLM0i+MaTzc0TS/r9v7iNvFe3Cy0JIWdmyHMxQ2qNhxa0LYSRtBoS2vSgrvuVrno5JiXuQp40tARqCE7t3OA2Lh3mB1LRE1kDV91w/8/7OjBqdj4BoLZbDcQU0O5Jx3g+bVdGii+IbB2tUschs28HPz8Pm/wEzSwJrC1SVslJQQFxcRBBAS2qTi3jM24GlnxM/Hx8srqH8pGvI0tfuajjI3Dy/3ZpOY2lG0s8HD4eChzF9vpdkltKH3e9kZ8/HzC0kp3H/VBteezXXAT01daU11i9DENwONCXomF9GrD4pNDI4VYYZkKD2XDUC1gnKTO/qwEHSK1+Ge2668hK+GCgx0j9SNkoqjLoG2F/W6PPqoRXwjDKDx4e7Fa5WqsYsWpmS00boIs008vDy8fCKSPklQ2hqpSVKQFuHm4dazO4byOTKQ98yQl4ebm0flUMAgOqHJvOQiBvLFL3o0oggtyG7z9SJ30Db/5y7KIlPpBrMbIJ709PRgjrdv387Ly8OeJyYmfH19r169OsdbNf7p+ISz1J+S0xl+i5+eZxW3+ZM1cKnzHj75b1Ia/uT29LYGR93l6fcl9f2eQN77YsYtbGDOWKfFzXmjtP+TQ/2dIPS1Fh/QWrb5bNSstL1/cdzUK/JspRsEKit99KMSLysxuYvDZGQu5fRPVGyb1mWeVH9Gn9AHKvaGSp6yCoi6U1HzP1QEc580CEKenEVPykTQrNmUCi92r95UyNRJRWqESn7vnkzUTspbXTkKaoKbMuUPJg9VCEYwN5ha8pT611SyZlL6VDqnw0bNTZKmL9kjQYO2pLLnPtaO1whwbCaQptKMGV4hkSYLYbo9kLE7CKcyDrOD2pDALItQZ+cF+5CCfvK2BKaAqloTMRNKbw0owU9mmlSaDAw1C0OduhCaSiLP/AkFGaz80bhmKqdjNYjpT89KHjTli7wNAQb2rgfMBA6VMqXXN+0Fi+Vjt1OjiZmOHbtTEStBYshB89Mx9aBUUSX6mTUFLfJMAzNbQ54yzzFVbtjFqtR3rlnEpNvGF+cOB8A5Amq1ZlL/fUZSSVg7RCOaMgZEelut75TbjMKYbK5TbY+CWuEZDT+zg0/KuK5vDHlnzEbb/WRLpFBnpBoWwszY4HWWU1QLn6AfMgGqAA347XdNKGx8q5T4q5g31XtsaRb7OVPXHns12fE+f/yq6j31nZ+/meMP+qAQJkZHJ94qAn96kuYU8ZyV8udYcR8L8vck79Mx9zBnphM/PjqGGvj+3QcTP1zLmDLLyKQJO+rsapx7VHPyBv9QBjo7hnCUOQf1KYcDqXgcqqf0haje00DD54i/Zfj85OPUn5KfOXqkEco/EP8Sawx/P/7Ugv4r6/B3n0CcY+Bz9/ynEMr7RqppoIGGfwPmmVDe3xX+PYYLaGT06fjjJfb7jQl9PnmcYyy/Hc3HPc0+of2va8bzRiiYJRQEXZFtampqaWlpbm4eGoKKp2NjYyQSaS5hQMPuf3eJzDG7ZNI/4kI71Nr/PyAd8wrUCv+749D8b3TPBoU8VwNUZHTbiEJ518TR5J4g3H952zS+uMr5DcwboWBskpaWtmfPnq1bt9rZ2e3atevYsWNZWVlmZmaNjVDpcY6ETSThcXio4T0HSz/vv/otgyQfXJX/Q/sYvxbAp+xxvBv+O79/RW6jUkhj+AnYB98LYi4ZQz2ScXjUSNXHIyWQ8PgZJrzmZKeI+hsuc97LgN56uwbGCZTfKIs/lh70jm1Qkh/fMfnoFU3vahxMjI4MQ2MUlH+Vwe152zYGf8+fP8/AwBAcHDztXl9fT09Pr6CgMDExgfxW66FShpL8/BqIlDf3/a9dugcPOCBvL+XAzNdQ3zNwCUeKyVdUzGwodcquz5RZz+nj7FMfz/j/5O3usy2czoxlUstgOkzsBWk0PyEgrwVu7pLJ0yl7l7qmLO5Mh0alTmnHYHFO3y0/nWbKtLYAZVIBB/PwNgvTlj5hCKMx4S+zq4fIw83+1o7ZQxQK8lb1hfq2WGbrwkwl623CKZTxhhJfG5ei8VkhTEdKQuWFBGenR/noSZm3ijjv9K6ZOcJSPqndMENJZeqr6eqZ3qCcUucZaK64HZwLr7vGPKBqRyM5/rsPXmodI01nCFOBmVYDmcoZZkl2dv1Olvnb9EwqJk35Bx9XpwYkVfZTqT2n9jtH5TeRpwN5r8mVJtw0N9LWNd0dnt0yo/kjA60FB2zN9fSMD3hHA8l8qCnF2cU1qw+La1762WeAeSAUTDY5derUN998U1kJ1XsxxROMRMzNzc+dO4f8xk1gWI00a/30w+MhpP7cbtf9Jwkg5AlsJ3+qOomEqSDeI6bpKdWUztu0TswEcZZnMnGc8I40TSHP7XY68sjY5BWbCKHFSeKXQ8nDUyGQPjZVI0xMTDHiZBxj6BGnmZiaO5FHRmcZsZnAjc400ETA4yamUz5pxGRAR0zu4N1SZKz+mAg31E3GT5rnmco98TebMuYTV5xwWFoCKp9PDM38gjg+Nh3pbRnWy4lV01kmfXRxjDpVGlTsbMus4ifPKo3REdysdKBoSr72C70pLCZUEY0EW86gi5LqvmtxU9WMH8L9xiT67XyESpmqXwqR8I4vCn5qduKt+otWQA2CdEhxi12MLn83TVO00VMWxsPwnfPlgBsu2gvXrs/rnz490L1fmoddY+/NG1fEFzPtCchCqINHrBUtTqFn6v6YCdTPCH+UULDFkZiYGDo6usxMqBqInRXEHgCJuLu7P30K7yr/+OosFQ2DeGO34cIfvt9g6hAbfFZGgYtNSp6LhVnf6g5qz2b47jFjVlY2Vha24z4p6EeTwsvTI6rM2jo83JzMqtv3n7DfyMvFwq9wIRMOHa+jvZhYWNjYWJVtT3aSEdJwjZOJBBsHGycHx64Lz0HXOe28lUuSVVyMm5VV3DkS3kNMQNkn0MNc88Bl1Lxqx7ltei7Xyvuq7wlys3NycoqpmhX3kpui7JZ888PyTdaZ/dTCuwc4YMqYLJxv4yYHPJhTXH2KrhAfGxs7J7vUiZv5UDGzPWWPIhMHBycLo/zTwvbU8NMC4gKiEvwXEitqnt/ZwMLOwcnBrORcOAjPhjqayHNxsrOyc1x7Xk2h9HhaanHxcDCz8JvdSAVpJEIDw6TYQNeli35cwSCfXZLvor2OfosOPzc7K5v5q1YgZxAjbbZzs7KxM/MZnnlOQk/0g1QNpoYZyZhmjiCE8gcCUluSgMCBy1BRs8vMTt2rTs+gqM3HxcbNZ1MyACqs65ShKsgzB5uQxZVkUNYhJvzeaXWgY8Ud3M3LwsbOwq1+LAL2JwoZZRBCwFlbYUlBYUmx+1X9DaFXxJlBsbDyG13oR5A8nyM8jPycQqKcrBxb7R6DpOAqErQ5uUCRsgpoB+WDPA/d8bbbZKanKaLJwcr9w08Ldx2/Dc+k4OFR6M5E783yBq/gYWDk1W0PflAu7GxsVleHcfXHdu/yioYnmLPCz2vvCSI2x+oe3KkssdHZ9oHv5T2CYvzC0jIxrWPl192E0PRI7LgOxoHGsCMSOps4xMXZmZmtT8R1FN7k/+GHnznUn1WUWSobnLvuraCpkdROAKVc88h906aL2CF08OeOBS/H4UhYzxND2S8TOqBRNdhmxhseM62XrkGppfPBDoaNh0CWJtJOCG81zEOV+/8liynzYGAJEAeY1IiKisKrOackzOm3dXV1nZ2Td3qDv2MNGR6HHfc5OAE4Ojk4OF6qGZq0ajPe8Vp+zcrref09Lz1Zf157PbW5NdlfaJXI3WZK2/1dy7nM35ARQlUQ23LRR8XouVeUoe6YrFrNb9880GImz7aA27Kyo/vCHpmNpq4jAwXrVrJA6xvIgKHw+j3+yaVpQZuNbQbBVDw7+OfVLI0T48663N9zmZf1DAQf12GS3QpbJRF2kJbAw0tXq6WPUYmVjzYu4XlWWryFf93u64mjo/37NXnE9lweH2jcvWL53oQeQvYVhvWbXzRQkImcTcw8bqFFCBSKIKWm2e+U3xsE8lXsbsUhYFlDJl43+JFH4Xjv6GiApcQGy5tRt6zp/rv6Qvir/oZkiYX0Zg8KRkdb9wtx8dk/SAnYT8+uCkKteuqpb3+oJt7tF3ap1CFk4FWoke7uPGhAkgSkNSKhQUdKas/FOBKlYxfHN/LWDwZHWxxY1+uFVNTfclm9QikNSDx1z8VWCLjGwKkKAcySejMVhDdeih/qiDIBY4D50zFC3H4GDY+2ztLtzN9qHYwZGqqxWLfe+kldtrv5Am7jV0Ojbc+vrfme16tgJNpc+FZpR9O9MwyLpWIASXRkbF7FY/MAnsZEbT+SLjpIff2jYGhGVWfeY9EfGE/ngJ7buYedU807K/ei+TffckSW97e/9F3zPY9XWpGbODfPvjujo6ORNhrfctq14vE3tgt8x6kVW9qW/fDUWjbt6iECegMs7MYpl/bp69uBoWWi7BHrt+scoqpH2zM5eYSDEp/v0lQ6GAjHj+c+zpybTxO7kpi//1H5+P2hwd7D5nzfLJR5UtT0JuEOz0+cN6tICLHOZB2LXmBTzyPrZT+tv1/cUXbXjZlZNalz8Dr/OuXzKURyq9pGdf+nSYcU2eUvFYCG6Sa8Tsf9CXXSjDHlptHan79asZmTa93SNY4XI8dIk5dVT9RH0S9a8rgZnsV+4WO8UsVtEFqWyZbjNghM60L+NYzyhwgFEzqKi4tB0wwNDUWmBJYPAjvHOd6Sd/zQXhubPTY2tnt229ja3mgaIk+Vdtt2FsZng0hzsKPNwRPoyaq63UYqJ57UhZjwfS+qfczD85Tb/oU/fHMgAtpSxggl0JT3bAo0TnfdWM7+bCR4yAs4pK/nnJcVsP4XHtsDx06f89Bc/rOsfQhC7nt2y/PQIVeHXZrfrWEtHOyx01R1uZ0NPimLPKcrZ4CauMPDaRWldjPvhhsJDcVR+1m1T3SnXxGQsa1HZyq9MUf4NLeXdfWf1WC+Uo7POaL+f8wb7d1OnTtznH3djyrHQtFyQa2Q9NXeuHza5ZirugAzu8L+hr46U3qW4GpUGBvr7+rsDT5tJWN6AvxsfXl5PZ8pZkt2oDCAU8AiJSN2E9s6ha12Zy/dLO9DCPWPddm5xBTM3S9df1nSjZYmGZ3+9VuqaHmElyGkxiMaQrHoAJ4WYCVnHeDtobuEW+r4qfNn3O0Flq/VdY0Hr/Bw+oU/bmBw1DvyyUEpXk4u+wPPHu1WdT73GNdV7KIrlYrOP55e2abucNvFSsfu8gs0UbjjWzV2nIsLt1MIe10RfM50IduGoyfPn/FwEmdYq7AHWuUgwNUk4nErFZMT0PRhQYTr18vW7zty6rTnYW1xRkE9r0BPC4u9V1DDguPu1pbWtnai0noZzWh8xFxRNpXE8uoLO/StDsO5RlOyL7vgrlG0PWHzwYhT29WMHEHZlTxyYxW3wyzoDnd397blWhtoHLsPqo6adOe4kNplYlc4N4NtFRxx8DY6MrbXYcYT/W2+WcOx3+3sGU8XJd7VolaRr3127z99CzUU81pXXfNmWt8zex6zQDCh69iyQSkovaHg7n7ejcfJ1EquZTyR6DE/lDfGz8iuXC1nWDeOtGadZPmW7m7xABWenwLvcEHmGmv5Je2ddy79+r8/yHgOwmGyWV1CxSsGrgNQ/x1X9M4Dobx69eqrr74Csx7kQ4SC2XNDpghloqvyXlBo0N3Qe6H37j2663c7umNkanOC2qDDwhg9jNT5Obkede+DM5DSnZqqp57U3pbh59hi6QmmT6dOHnc5k1Y7iKBLg+DvbV1e3yxIBWf0pWzPPAQfJV+31zY8VJx+g3Gx/PHTHidOnHR3OxyeUvzS156LcTMIIyDgBBcTT/Fwn52m9kGfdPBJ7j13pU1G0B4ZlYhHl1j898lpOTof3bThcNzo6FMnbmUHzEhvX6Qrr6pFSVe3hwrrjSZ8qpkqPZ8aiMXd09P9qNvjjAa0EGC/9bBV5ZTRdD9x0sNaY5OpQ3VnrTkja9gbWD7jvTWZ2cW3zxxUMPWhUKiNiV5MAnuw5aLujMssDGYNOELVq+grpz105ATYVXeUDVI6a17dvHRqt/rGNRsNX7QQQfNE7XP3bFfSOvmoDJlodFcVSUFNXyfd2K5oFnTluAabpNI5T3cPjxPHjng8zm2CCcPDHlR0224zD6vAGtfXGc/38LGwMG5+XNxNas05piWTCy2nUCLOGOvYBbnuMN2HWv0DmXbRULK5mB5hvzkstzzgpOF6UdmzJ6GtveNH3cLSahC4AQT+jB23srQ4Hk2hUjPvHVi0ns0NFL67u9tR15DM0rsHDa2dvdGmMHjU3GT3XicxWYusFpRQhhKFGDTSKmsvOmqYni0CLaE6yYddaPdMQrnnvm2zsSMo1uJHJzg27sVaVNPr7Kr6tJ2Kau63oPyVeHGnkMZNYttdbondeR1w2cVGd6vjNWiXJPrGzmXs/CdPoWk+cigkr+PVOTO3y35gikodStNW0PJP7g3fw211rw4QirKYkl9qKx5MnRQ3nHC3UFdza0PP3GGnHc+pMUk8fIMlwFGMyyupbrKhk0b7u+qT7p/3uPHgtrXkSlU4IkJC2ah8lUYocwRGKBkZGUBCSU5OhlQ9RSjYAkdaWlpSUhLmE5vyDFcmONjt2mNrv89+3z7H3VbWJ8p7YSuHvsmNGiuX+pUMVfrsczp4GA63hHILNSnX8P4GXwMGgX2DwKX5lrbUpqQ6WMMYodxSZ/FKhxV8UlN0pwcUEJKv2Sqr2TU1JqxfxhMNba9POJiqHH+Y7LdHWVD5PvCQc1Vz4Y9Lsjrad6moOHpDo1u5d49t3qiNWd8gk+EpR0rlQ5YV3yz4XqURRNKXysu6+tjdbDx+aL8qx2bHa0TqhNOmBRqP2oaeHWZep5IHbbJl7d6ywfc5JBRoqBgZkhFYbXkjGTwFOir8ImbUMDZ+bssiMXX/MfzAOXkhHqeA4POOkrrQ7sl4zTOhnxlPxFTh8W37RDj49z987LdXYccp8KrhxaUlouLBZ86KaTs2gd+14eyC7J7FkILRRcnubfJSOy7GUYZrjylyJ6KmhhOv6IlYP8y5sW8JtyFsyO1Z2mJaNzJgcRLRVW1qR4rAL3R0ir4USs8eATo6lh1vKAi5JvGgyoYsdN0o3ENjk31EtMc2JhGrygl82/MrS34W9KmeeGbM5VvSWhpwZBmLKjSrPVhsIq52Nh4WG2qAddx1u67xoQcwWRlBLL9w3oLWXYddZZUdHpbmX9mx6Bex53WjPcl+6xcI3cjKdxTmVDsajsfjI3Yr/1fMdQA/eMpK3tC9EObyxeXl69Wqh0nTU570q05GOjaAYsYKQlf/wHQkvWW8NpqLmfV+TuZeMS6jgwm4vnzBBf8V1AjEt9xh4rXKg6YyhneoqdqehxJK49PL9MtFIqCc0WEnvvnwi/6Ks4b7z3jDZjSUpiKrePNl96O9zKyHn5Eo7QqCchejaxEyzstB7qv//HDhST4F25FCp/AvLxqu4Dcu78fXxZ9fv5A3qYvQWRh79fqDweFaNX5Rb2hzs8tQepVtyEt4jQX+9Wbu7aEpXcgcbJ19GfhDhIKxRkVFBSCU2NhY8Dw+Pk5CD34jqNUlT0/PiYmJuajho++J/hZskiZ7HvtevH75MuwBEw1HD9mefQHqo+eMOct6ZhaW9fT7zj0aR0+6Y4TyeI9SaD6ULQJtjTx8YBoKQk/a7zwC5InMoINr1zGysjJJmx54g8P3Zt5XZmRiZWUz2bvTQHzDAedHnocOngmCRqGqn97YZ7IXtdeCmRQAT2OntkgbnIrFklb05BIfFwcnJ8cGHavCHpi7RO/tDBtMY/qJiWc3rVvPwsq8VnfX+S4gNkCDBLDD5z10F2RhZuXcaODoorKR9eijfEJHpoU4ExcXF6O0VW7/xIvbF0323cMK8lWIJxcTKwcnO4Oaaxmgq8YkfUkWADZ27n2heSRctdZmkXUsLOzs3Fttw+DSLxnbycXfcd3GzCqZUZQXYKOXhU7Kcu+7bjkRj5Dx1021mJhZWRk5VF3Dhico0OwQFbtBCHfCWMHpDmRSn8P6eq7QxCy+NtNrt1EhKkIkBjhpnc9CiK2OatKsnJzsbMJmNzMAfT3brRSU24xQSIF7TJiZWdkY2Tbtu90/TgY5xhLjdfjwgctJWI7Srh7hYmBiZWFiUT3WMoJPPrl76Q+L2AUFOJm4TD2eAe89rx/IsbJxcnAyCRsEl4Okj3gds3EOgvLOaH2CICPTjiPQRhkFD2dT4/n+fKpq0ZChKHE3XJlZObjYWczd75Ko1Lzrh4VZWPnEeNS3SBjtjSF1RStuPVUGpzw4N1vnk3dy0OZFjPWwZ2NkZmVm4jM83Y0jlV7de+V2GBQ6hwp32++7V4LvT/Wk51b0La05vH2vbxyUO+pDj/7wi2RCB7bZTJ3czCF1XdqzhY2Di42Z1z0YXktSEHxCQWVvK5WS5Ou0dj0TCwuTqu1F7FqOvuRTPJvVXqEN6088ufdPwh9dlIU3GBKJRkZG0tLSgE2mX9XU1Hh5eZWUoIsdnyTsfbzYJ3AjhE8VG8ljo+MzZ2EE3PjkFOzXR4wPvCPjh4dGP/iWNIEbx3/IEAFxYozw7sV64+P4D8dFHusfwM10HxsZHpuxzYkbHsLuG5o7COM4/B/brxwfHsIRJjMwM7XECdzEb15YRx6fLm2/XcoWB67BJGFZmAyNNDAwTJ0V/AcCQ7e+R07oyVtcipwsOyphgjizoAn4X+2tk2o1xLGxORfHcGf5qa3yGkbnR1FFmHeCnxgdGSPNDHsKpLER9DIp9Facrj3bRQ3OPUZQzYQ/VA2fD+bBYhvoKr29vVu3btXW1gZz1CtXrvj4+Ny5cwdjk0/SaERVlmYdLJzWOJu8EO99ddKpO7CnhVLqTI2pqW9mfkqd+oY6U6fqPdajzrhem/rO3tVsdawp/x9QW0DQQ+UzP0KmRivqDG26d33McJg0zPPW9s77Vldm6dVNB0ulzArhg1mbLooPhkCZkYXZRT3L/b3EzConTHko9vyBg2dDJ6AKGfmtItq7eZ6RS8pbcz5U9BZefEWI3YlrbeOkd6p3+n9T+mxv1e2olPfTg0xrDr4t4VkKdlguifcOa/MIqURnD7/PJ+/X1TvtDdsuwDUmHj6yN7MXVdj7V6yfQMyDYtt0VSUkJERFRYG/L1++xKO35H6abDLniP7IR39E8PyVA2G/fVLstxPw+1Xv57XE3ksT9SMv5vb1pM3YoYH+wTHqe/n/JNX7sYFRAnFqXPl9uZmrT3JbbU3Lx29xpM6hKeDHx3HDRJrq/e8BhUJ5v4Tnl01o+Jfjb9Hj+OMrqf+Opdi3mOfTxhg+yC80/JsxL/Zx/spG9a6p2N+b6b8swf8Q0Cy20UADDfMGGqHQQAMN8wYaodBAAw3zhv8Ht6bNB7q6bkoAAAAASUVORK5CYII=)"
      ]
    },
    {
      "cell_type": "code",
      "metadata": {
        "id": "cjWtuVdlbWXq"
      },
      "source": [
        "\n",
        "# Calculate all the components based on the above formula\n",
        "v=movies['vote_count']\n",
        "R=movies['vote_average']\n",
        "C=movies['vote_average'].mean()\n",
        "m=movies['vote_count'].quantile(0.70)"
      ],
      "execution_count": null,
      "outputs": []
    },
    {
      "cell_type": "code",
      "metadata": {
        "colab": {
          "base_uri": "https://localhost:8080/"
        },
        "id": "DXS-NlTEdcC_",
        "outputId": "79753e48-6dca-477b-cdb1-e0f2463c5de0"
      },
      "source": [
        "movies['weighted_average']=(R*v + C*m)/(v+m)\n",
        "movies['weighted_average']"
      ],
      "execution_count": null,
      "outputs": [
        {
          "output_type": "execute_result",
          "data": {
            "text/plain": [
              "0       7.148013\n",
              "1       6.807627\n",
              "2       6.276075\n",
              "3       7.509565\n",
              "4       6.098319\n",
              "          ...   \n",
              "4798    6.239746\n",
              "4799    6.090532\n",
              "4800    6.101451\n",
              "4801    6.087503\n",
              "4802    6.097742\n",
              "Name: weighted_average, Length: 4803, dtype: float64"
            ]
          },
          "metadata": {
            "tags": []
          },
          "execution_count": 29
        }
      ]
    },
    {
      "cell_type": "code",
      "metadata": {
        "colab": {
          "base_uri": "https://localhost:8080/",
          "height": 639
        },
        "id": "n_IxzLt2dmre",
        "outputId": "f9a8cb57-6281-45ab-970e-a17b08ddd115"
      },
      "source": [
        "movies_sorted=movies.sort_values('weighted_average',ascending=False)\n",
        "movies_sorted[['original_title', 'vote_count', 'vote_average', 'weighted_average', 'popularity',\"weighted_average\"]].head(20)"
      ],
      "execution_count": null,
      "outputs": [
        {
          "output_type": "execute_result",
          "data": {
            "text/html": [
              "<div>\n",
              "<style scoped>\n",
              "    .dataframe tbody tr th:only-of-type {\n",
              "        vertical-align: middle;\n",
              "    }\n",
              "\n",
              "    .dataframe tbody tr th {\n",
              "        vertical-align: top;\n",
              "    }\n",
              "\n",
              "    .dataframe thead th {\n",
              "        text-align: right;\n",
              "    }\n",
              "</style>\n",
              "<table border=\"1\" class=\"dataframe\">\n",
              "  <thead>\n",
              "    <tr style=\"text-align: right;\">\n",
              "      <th></th>\n",
              "      <th>original_title</th>\n",
              "      <th>vote_count</th>\n",
              "      <th>vote_average</th>\n",
              "      <th>weighted_average</th>\n",
              "      <th>popularity</th>\n",
              "      <th>weighted_average</th>\n",
              "    </tr>\n",
              "  </thead>\n",
              "  <tbody>\n",
              "    <tr>\n",
              "      <th>1881</th>\n",
              "      <td>The Shawshank Redemption</td>\n",
              "      <td>8205</td>\n",
              "      <td>8.5</td>\n",
              "      <td>8.340775</td>\n",
              "      <td>136.747729</td>\n",
              "      <td>8.340775</td>\n",
              "    </tr>\n",
              "    <tr>\n",
              "      <th>3337</th>\n",
              "      <td>The Godfather</td>\n",
              "      <td>5893</td>\n",
              "      <td>8.4</td>\n",
              "      <td>8.192887</td>\n",
              "      <td>143.659698</td>\n",
              "      <td>8.192887</td>\n",
              "    </tr>\n",
              "    <tr>\n",
              "      <th>662</th>\n",
              "      <td>Fight Club</td>\n",
              "      <td>9413</td>\n",
              "      <td>8.3</td>\n",
              "      <td>8.171648</td>\n",
              "      <td>146.757391</td>\n",
              "      <td>8.171648</td>\n",
              "    </tr>\n",
              "    <tr>\n",
              "      <th>3232</th>\n",
              "      <td>Pulp Fiction</td>\n",
              "      <td>8428</td>\n",
              "      <td>8.3</td>\n",
              "      <td>8.157615</td>\n",
              "      <td>121.463076</td>\n",
              "      <td>8.157615</td>\n",
              "    </tr>\n",
              "    <tr>\n",
              "      <th>65</th>\n",
              "      <td>The Dark Knight</td>\n",
              "      <td>12002</td>\n",
              "      <td>8.2</td>\n",
              "      <td>8.102674</td>\n",
              "      <td>187.322927</td>\n",
              "      <td>8.102674</td>\n",
              "    </tr>\n",
              "    <tr>\n",
              "      <th>809</th>\n",
              "      <td>Forrest Gump</td>\n",
              "      <td>7927</td>\n",
              "      <td>8.2</td>\n",
              "      <td>8.056059</td>\n",
              "      <td>138.133331</td>\n",
              "      <td>8.056059</td>\n",
              "    </tr>\n",
              "    <tr>\n",
              "      <th>1818</th>\n",
              "      <td>Schindler's List</td>\n",
              "      <td>4329</td>\n",
              "      <td>8.3</td>\n",
              "      <td>8.038748</td>\n",
              "      <td>104.469351</td>\n",
              "      <td>8.038748</td>\n",
              "    </tr>\n",
              "    <tr>\n",
              "      <th>3865</th>\n",
              "      <td>Whiplash</td>\n",
              "      <td>4254</td>\n",
              "      <td>8.3</td>\n",
              "      <td>8.034695</td>\n",
              "      <td>192.528841</td>\n",
              "      <td>8.034695</td>\n",
              "    </tr>\n",
              "    <tr>\n",
              "      <th>96</th>\n",
              "      <td>Inception</td>\n",
              "      <td>13752</td>\n",
              "      <td>8.1</td>\n",
              "      <td>8.018611</td>\n",
              "      <td>167.583710</td>\n",
              "      <td>8.018611</td>\n",
              "    </tr>\n",
              "    <tr>\n",
              "      <th>1990</th>\n",
              "      <td>The Empire Strikes Back</td>\n",
              "      <td>5879</td>\n",
              "      <td>8.2</td>\n",
              "      <td>8.010426</td>\n",
              "      <td>78.517830</td>\n",
              "      <td>8.010426</td>\n",
              "    </tr>\n",
              "    <tr>\n",
              "      <th>2294</th>\n",
              "      <td>千と千尋の神隠し</td>\n",
              "      <td>3840</td>\n",
              "      <td>8.3</td>\n",
              "      <td>8.009851</td>\n",
              "      <td>118.968562</td>\n",
              "      <td>8.009851</td>\n",
              "    </tr>\n",
              "    <tr>\n",
              "      <th>95</th>\n",
              "      <td>Interstellar</td>\n",
              "      <td>10867</td>\n",
              "      <td>8.1</td>\n",
              "      <td>7.998100</td>\n",
              "      <td>724.247784</td>\n",
              "      <td>7.998100</td>\n",
              "    </tr>\n",
              "    <tr>\n",
              "      <th>2731</th>\n",
              "      <td>The Godfather: Part II</td>\n",
              "      <td>3338</td>\n",
              "      <td>8.3</td>\n",
              "      <td>7.972685</td>\n",
              "      <td>105.792936</td>\n",
              "      <td>7.972685</td>\n",
              "    </tr>\n",
              "    <tr>\n",
              "      <th>329</th>\n",
              "      <td>The Lord of the Rings: The Return of the King</td>\n",
              "      <td>8064</td>\n",
              "      <td>8.1</td>\n",
              "      <td>7.965061</td>\n",
              "      <td>123.630332</td>\n",
              "      <td>7.965061</td>\n",
              "    </tr>\n",
              "    <tr>\n",
              "      <th>2912</th>\n",
              "      <td>Star Wars</td>\n",
              "      <td>6624</td>\n",
              "      <td>8.1</td>\n",
              "      <td>7.938092</td>\n",
              "      <td>126.393695</td>\n",
              "      <td>7.938092</td>\n",
              "    </tr>\n",
              "    <tr>\n",
              "      <th>690</th>\n",
              "      <td>The Green Mile</td>\n",
              "      <td>4048</td>\n",
              "      <td>8.2</td>\n",
              "      <td>7.935440</td>\n",
              "      <td>103.698022</td>\n",
              "      <td>7.935440</td>\n",
              "    </tr>\n",
              "    <tr>\n",
              "      <th>1553</th>\n",
              "      <td>Se7en</td>\n",
              "      <td>5765</td>\n",
              "      <td>8.1</td>\n",
              "      <td>7.916176</td>\n",
              "      <td>79.579532</td>\n",
              "      <td>7.916176</td>\n",
              "    </tr>\n",
              "    <tr>\n",
              "      <th>262</th>\n",
              "      <td>The Lord of the Rings: The Fellowship of the Ring</td>\n",
              "      <td>8705</td>\n",
              "      <td>8.0</td>\n",
              "      <td>7.880632</td>\n",
              "      <td>138.049577</td>\n",
              "      <td>7.880632</td>\n",
              "    </tr>\n",
              "    <tr>\n",
              "      <th>1847</th>\n",
              "      <td>GoodFellas</td>\n",
              "      <td>3128</td>\n",
              "      <td>8.2</td>\n",
              "      <td>7.869817</td>\n",
              "      <td>63.654244</td>\n",
              "      <td>7.869817</td>\n",
              "    </tr>\n",
              "    <tr>\n",
              "      <th>2091</th>\n",
              "      <td>The Silence of the Lambs</td>\n",
              "      <td>4443</td>\n",
              "      <td>8.1</td>\n",
              "      <td>7.867805</td>\n",
              "      <td>18.174804</td>\n",
              "      <td>7.867805</td>\n",
              "    </tr>\n",
              "  </tbody>\n",
              "</table>\n",
              "</div>"
            ],
            "text/plain": [
              "                                         original_title  ...  weighted_average\n",
              "1881                           The Shawshank Redemption  ...          8.340775\n",
              "3337                                      The Godfather  ...          8.192887\n",
              "662                                          Fight Club  ...          8.171648\n",
              "3232                                       Pulp Fiction  ...          8.157615\n",
              "65                                      The Dark Knight  ...          8.102674\n",
              "809                                        Forrest Gump  ...          8.056059\n",
              "1818                                   Schindler's List  ...          8.038748\n",
              "3865                                           Whiplash  ...          8.034695\n",
              "96                                            Inception  ...          8.018611\n",
              "1990                            The Empire Strikes Back  ...          8.010426\n",
              "2294                                           千と千尋の神隠し  ...          8.009851\n",
              "95                                         Interstellar  ...          7.998100\n",
              "2731                             The Godfather: Part II  ...          7.972685\n",
              "329       The Lord of the Rings: The Return of the King  ...          7.965061\n",
              "2912                                          Star Wars  ...          7.938092\n",
              "690                                      The Green Mile  ...          7.935440\n",
              "1553                                              Se7en  ...          7.916176\n",
              "262   The Lord of the Rings: The Fellowship of the Ring  ...          7.880632\n",
              "1847                                         GoodFellas  ...          7.869817\n",
              "2091                           The Silence of the Lambs  ...          7.867805\n",
              "\n",
              "[20 rows x 6 columns]"
            ]
          },
          "metadata": {
            "tags": []
          },
          "execution_count": 39
        }
      ]
    },
    {
      "cell_type": "code",
      "metadata": {
        "id": "PRvOxBxed33e"
      },
      "source": [
        "import matplotlib.pyplot as plt\n",
        "import seaborn as sns"
      ],
      "execution_count": null,
      "outputs": []
    },
    {
      "cell_type": "code",
      "metadata": {
        "colab": {
          "base_uri": "https://localhost:8080/",
          "height": 404
        },
        "id": "yrJ9WGEueL8y",
        "outputId": "ed324445-4ef4-4fd2-e6e8-dfb531a89c84"
      },
      "source": [
        "plt.figure(figsize=(12,6))\n",
        "axis1=sns.barplot(x=movies_sorted['weighted_average'].head(10), y=movies_sorted['original_title'].head(10), data=movies_sorted)\n",
        "plt.xlim(4, 10)\n",
        "plt.title('Best Movies by average votes', weight='bold')\n",
        "plt.xlabel('Weighted Average Score', weight='bold')\n",
        "plt.ylabel('Movie Title', weight='bold')\n",
        "plt.savefig('best_movies.png')"
      ],
      "execution_count": null,
      "outputs": [
        {
          "output_type": "display_data",
          "data": {
            "image/png": "[encoded data removed]",
            "text/plain": [
              "<Figure size 864x432 with 1 Axes>"
            ]
          },
          "metadata": {
            "tags": [],
            "needs_background": "light"
          }
        }
      ]
    },
    {
      "cell_type": "code",
      "metadata": {
        "colab": {
          "base_uri": "https://localhost:8080/",
          "height": 404
        },
        "id": "AeCcSVGHevL3",
        "outputId": "9337a7f9-d257-438a-9347-fca5eb111a03"
      },
      "source": [
        "popularity=movies_sorted.sort_values('popularity',ascending=False)\n",
        "plt.figure(figsize=(12,6))\n",
        "ax=sns.barplot(x=popularity['popularity'].head(10), y=popularity['original_title'].head(10), data=popularity)\n",
        "\n",
        "plt.title('Most Popular by Votes', weight='bold')\n",
        "plt.xlabel('Score of Popularity', weight='bold')\n",
        "plt.ylabel('Movie Title', weight='bold')\n",
        "plt.savefig('best_popular_movies.png')"
      ],
      "execution_count": null,
      "outputs": [
        {
          "output_type": "display_data",
          "data": {
            "image/png": "[encoded data removed]",
            "text/plain": [
              "<Figure size 864x432 with 1 Axes>"
            ]
          },
          "metadata": {
            "tags": [],
            "needs_background": "light"
          }
        }
      ]
    },
    {
      "cell_type": "markdown",
      "metadata": {
        "id": "NJ0jJMxpgCR8"
      },
      "source": [
        "***Recommendation based on scaled weighted average and popularity score(Priority is given 50% to both)***"
      ]
    },
    {
      "cell_type": "code",
      "metadata": {
        "colab": {
          "base_uri": "https://localhost:8080/",
          "height": 195
        },
        "id": "Sls9Al6MftdY",
        "outputId": "e5b1244f-b3cb-425f-fabc-ae100f88e641"
      },
      "source": [
        "from sklearn.preprocessing import MinMaxScaler\n",
        "\n",
        "scaling=MinMaxScaler()\n",
        "movie_scaled=scaling.fit_transform(movies[['weighted_average','popularity']])\n",
        "movie_normalized=pd.DataFrame(movie_scaled,columns=['weighted_average','popularity'])\n",
        "movie_normalized.head()"
      ],
      "execution_count": null,
      "outputs": [
        {
          "output_type": "execute_result",
          "data": {
            "text/html": [
              "<div>\n",
              "<style scoped>\n",
              "    .dataframe tbody tr th:only-of-type {\n",
              "        vertical-align: middle;\n",
              "    }\n",
              "\n",
              "    .dataframe tbody tr th {\n",
              "        vertical-align: top;\n",
              "    }\n",
              "\n",
              "    .dataframe thead th {\n",
              "        text-align: right;\n",
              "    }\n",
              "</style>\n",
              "<table border=\"1\" class=\"dataframe\">\n",
              "  <thead>\n",
              "    <tr style=\"text-align: right;\">\n",
              "      <th></th>\n",
              "      <th>weighted_average</th>\n",
              "      <th>popularity</th>\n",
              "    </tr>\n",
              "  </thead>\n",
              "  <tbody>\n",
              "    <tr>\n",
              "      <th>0</th>\n",
              "      <td>0.674339</td>\n",
              "      <td>0.171815</td>\n",
              "    </tr>\n",
              "    <tr>\n",
              "      <th>1</th>\n",
              "      <td>0.581403</td>\n",
              "      <td>0.158846</td>\n",
              "    </tr>\n",
              "    <tr>\n",
              "      <th>2</th>\n",
              "      <td>0.436273</td>\n",
              "      <td>0.122635</td>\n",
              "    </tr>\n",
              "    <tr>\n",
              "      <th>3</th>\n",
              "      <td>0.773054</td>\n",
              "      <td>0.128272</td>\n",
              "    </tr>\n",
              "    <tr>\n",
              "      <th>4</th>\n",
              "      <td>0.387739</td>\n",
              "      <td>0.050169</td>\n",
              "    </tr>\n",
              "  </tbody>\n",
              "</table>\n",
              "</div>"
            ],
            "text/plain": [
              "   weighted_average  popularity\n",
              "0          0.674339    0.171815\n",
              "1          0.581403    0.158846\n",
              "2          0.436273    0.122635\n",
              "3          0.773054    0.128272\n",
              "4          0.387739    0.050169"
            ]
          },
          "metadata": {
            "tags": []
          },
          "execution_count": 48
        }
      ]
    },
    {
      "cell_type": "code",
      "metadata": {
        "id": "WY_iZqjDgQJW"
      },
      "source": [
        "movies[['normalized_weight_average','normalized_popularity']]= movie_normalized\n"
      ],
      "execution_count": null,
      "outputs": []
    },
    {
      "cell_type": "code",
      "metadata": {
        "colab": {
          "base_uri": "https://localhost:8080/",
          "height": 639
        },
        "id": "Wuc_gfQngWlN",
        "outputId": "03c3e0d4-8333-4787-a18c-a00502ff146a"
      },
      "source": [
        "movies['score'] = movies['normalized_weight_average'] * 0.5 + movies['normalized_popularity'] * 0.5\n",
        "movies_score = movies.sort_values(['score'], ascending=False)\n",
        "movies_score[['original_title', 'normalized_weight_average', 'normalized_popularity', 'score']].head(20)"
      ],
      "execution_count": null,
      "outputs": [
        {
          "output_type": "execute_result",
          "data": {
            "text/html": [
              "<div>\n",
              "<style scoped>\n",
              "    .dataframe tbody tr th:only-of-type {\n",
              "        vertical-align: middle;\n",
              "    }\n",
              "\n",
              "    .dataframe tbody tr th {\n",
              "        vertical-align: top;\n",
              "    }\n",
              "\n",
              "    .dataframe thead th {\n",
              "        text-align: right;\n",
              "    }\n",
              "</style>\n",
              "<table border=\"1\" class=\"dataframe\">\n",
              "  <thead>\n",
              "    <tr style=\"text-align: right;\">\n",
              "      <th></th>\n",
              "      <th>original_title</th>\n",
              "      <th>normalized_weight_average</th>\n",
              "      <th>normalized_popularity</th>\n",
              "      <th>score</th>\n",
              "    </tr>\n",
              "  </thead>\n",
              "  <tbody>\n",
              "    <tr>\n",
              "      <th>95</th>\n",
              "      <td>Interstellar</td>\n",
              "      <td>0.906439</td>\n",
              "      <td>0.827162</td>\n",
              "      <td>0.866801</td>\n",
              "    </tr>\n",
              "    <tr>\n",
              "      <th>546</th>\n",
              "      <td>Minions</td>\n",
              "      <td>0.460630</td>\n",
              "      <td>1.000000</td>\n",
              "      <td>0.730315</td>\n",
              "    </tr>\n",
              "    <tr>\n",
              "      <th>94</th>\n",
              "      <td>Guardians of the Galaxy</td>\n",
              "      <td>0.851874</td>\n",
              "      <td>0.549462</td>\n",
              "      <td>0.700668</td>\n",
              "    </tr>\n",
              "    <tr>\n",
              "      <th>788</th>\n",
              "      <td>Deadpool</td>\n",
              "      <td>0.725217</td>\n",
              "      <td>0.587690</td>\n",
              "      <td>0.656453</td>\n",
              "    </tr>\n",
              "    <tr>\n",
              "      <th>127</th>\n",
              "      <td>Mad Max: Fury Road</td>\n",
              "      <td>0.670973</td>\n",
              "      <td>0.495989</td>\n",
              "      <td>0.583481</td>\n",
              "    </tr>\n",
              "    <tr>\n",
              "      <th>1881</th>\n",
              "      <td>The Shawshank Redemption</td>\n",
              "      <td>1.000000</td>\n",
              "      <td>0.156179</td>\n",
              "      <td>0.578090</td>\n",
              "    </tr>\n",
              "    <tr>\n",
              "      <th>65</th>\n",
              "      <td>The Dark Knight</td>\n",
              "      <td>0.934991</td>\n",
              "      <td>0.213941</td>\n",
              "      <td>0.574466</td>\n",
              "    </tr>\n",
              "    <tr>\n",
              "      <th>3865</th>\n",
              "      <td>Whiplash</td>\n",
              "      <td>0.916431</td>\n",
              "      <td>0.219887</td>\n",
              "      <td>0.568159</td>\n",
              "    </tr>\n",
              "    <tr>\n",
              "      <th>3337</th>\n",
              "      <td>The Godfather</td>\n",
              "      <td>0.959622</td>\n",
              "      <td>0.164074</td>\n",
              "      <td>0.561848</td>\n",
              "    </tr>\n",
              "    <tr>\n",
              "      <th>662</th>\n",
              "      <td>Fight Club</td>\n",
              "      <td>0.953823</td>\n",
              "      <td>0.167611</td>\n",
              "      <td>0.560717</td>\n",
              "    </tr>\n",
              "    <tr>\n",
              "      <th>96</th>\n",
              "      <td>Inception</td>\n",
              "      <td>0.912039</td>\n",
              "      <td>0.191397</td>\n",
              "      <td>0.551718</td>\n",
              "    </tr>\n",
              "    <tr>\n",
              "      <th>3232</th>\n",
              "      <td>Pulp Fiction</td>\n",
              "      <td>0.949991</td>\n",
              "      <td>0.138723</td>\n",
              "      <td>0.544357</td>\n",
              "    </tr>\n",
              "    <tr>\n",
              "      <th>809</th>\n",
              "      <td>Forrest Gump</td>\n",
              "      <td>0.922264</td>\n",
              "      <td>0.157762</td>\n",
              "      <td>0.540013</td>\n",
              "    </tr>\n",
              "    <tr>\n",
              "      <th>199</th>\n",
              "      <td>Pirates of the Caribbean: The Curse of the Bla...</td>\n",
              "      <td>0.740925</td>\n",
              "      <td>0.310620</td>\n",
              "      <td>0.525772</td>\n",
              "    </tr>\n",
              "    <tr>\n",
              "      <th>2294</th>\n",
              "      <td>千と千尋の神隠し</td>\n",
              "      <td>0.909647</td>\n",
              "      <td>0.135874</td>\n",
              "      <td>0.522761</td>\n",
              "    </tr>\n",
              "    <tr>\n",
              "      <th>88</th>\n",
              "      <td>Big Hero 6</td>\n",
              "      <td>0.812013</td>\n",
              "      <td>0.232685</td>\n",
              "      <td>0.522349</td>\n",
              "    </tr>\n",
              "    <tr>\n",
              "      <th>329</th>\n",
              "      <td>The Lord of the Rings: The Return of the King</td>\n",
              "      <td>0.897418</td>\n",
              "      <td>0.141198</td>\n",
              "      <td>0.519308</td>\n",
              "    </tr>\n",
              "    <tr>\n",
              "      <th>1818</th>\n",
              "      <td>Schindler's List</td>\n",
              "      <td>0.917537</td>\n",
              "      <td>0.119314</td>\n",
              "      <td>0.518426</td>\n",
              "    </tr>\n",
              "    <tr>\n",
              "      <th>2912</th>\n",
              "      <td>Star Wars</td>\n",
              "      <td>0.890055</td>\n",
              "      <td>0.144354</td>\n",
              "      <td>0.517204</td>\n",
              "    </tr>\n",
              "    <tr>\n",
              "      <th>262</th>\n",
              "      <td>The Lord of the Rings: The Fellowship of the Ring</td>\n",
              "      <td>0.874367</td>\n",
              "      <td>0.157666</td>\n",
              "      <td>0.516016</td>\n",
              "    </tr>\n",
              "  </tbody>\n",
              "</table>\n",
              "</div>"
            ],
            "text/plain": [
              "                                         original_title  ...     score\n",
              "95                                         Interstellar  ...  0.866801\n",
              "546                                             Minions  ...  0.730315\n",
              "94                              Guardians of the Galaxy  ...  0.700668\n",
              "788                                            Deadpool  ...  0.656453\n",
              "127                                  Mad Max: Fury Road  ...  0.583481\n",
              "1881                           The Shawshank Redemption  ...  0.578090\n",
              "65                                      The Dark Knight  ...  0.574466\n",
              "3865                                           Whiplash  ...  0.568159\n",
              "3337                                      The Godfather  ...  0.561848\n",
              "662                                          Fight Club  ...  0.560717\n",
              "96                                            Inception  ...  0.551718\n",
              "3232                                       Pulp Fiction  ...  0.544357\n",
              "809                                        Forrest Gump  ...  0.540013\n",
              "199   Pirates of the Caribbean: The Curse of the Bla...  ...  0.525772\n",
              "2294                                           千と千尋の神隠し  ...  0.522761\n",
              "88                                           Big Hero 6  ...  0.522349\n",
              "329       The Lord of the Rings: The Return of the King  ...  0.519308\n",
              "1818                                   Schindler's List  ...  0.518426\n",
              "2912                                          Star Wars  ...  0.517204\n",
              "262   The Lord of the Rings: The Fellowship of the Ring  ...  0.516016\n",
              "\n",
              "[20 rows x 4 columns]"
            ]
          },
          "metadata": {
            "tags": []
          },
          "execution_count": 50
        }
      ]
    },
    {
      "cell_type": "code",
      "metadata": {
        "colab": {
          "base_uri": "https://localhost:8080/",
          "height": 404
        },
        "id": "7M1wBjqbgjOK",
        "outputId": "f0f0bc51-f3f3-4f57-a59d-d58fd7d5aa9a"
      },
      "source": [
        "plt.figure(figsize=(12,6))\n",
        "ax=sns.barplot(x=movies_score['score'].head(10), y=movies_score['original_title'].head(10), data=movies_score)\n",
        "\n",
        "plt.title('Most Popular by Score', weight='bold')\n",
        "plt.xlabel('Score of Movie', weight='bold')\n",
        "plt.ylabel('Movie Title', weight='bold')\n",
        "plt.savefig('best_scoring_movies.png')"
      ],
      "execution_count": null,
      "outputs": [
        {
          "output_type": "display_data",
          "data": {
            "image/png": "[encoded data removed]",
            "text/plain": [
              "<Figure size 864x432 with 1 Axes>"
            ]
          },
          "metadata": {
            "tags": [],
            "needs_background": "light"
          }
        }
      ]
    },
    {
      "cell_type": "markdown",
      "metadata": {
        "id": "BSK_xDCmhE4l"
      },
      "source": [
        "**Content Based Recommendation System**\n",
        "\n",
        "A recommendations based on the movie’s plot summaries given in the overview column. So if our user gives us a movie title, our goal is to recommend movies that share similar plot summaries.\n",
        "\n",
        "![download.png](data:image/png;base64,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)"
      ]
    },
    {
      "cell_type": "code",
      "metadata": {
        "id": "cn4TnSn-g2F3"
      },
      "source": [
        "from sklearn.feature_extraction.text import TfidfVectorizer\n",
        "\n",
        "# Using arguments for TF-IDF\n",
        "tfv = TfidfVectorizer(min_df=3,  max_features=None, \n",
        "            strip_accents='unicode', analyzer='word',token_pattern=r'\\w{1,}',\n",
        "            ngram_range=(1, 3),\n",
        "            stop_words = 'english')\n",
        "\n",
        "# Filling NaNs with empty string\n",
        "movies['overview'] = movies['overview'].fillna('')"
      ],
      "execution_count": null,
      "outputs": []
    },
    {
      "cell_type": "code",
      "metadata": {
        "id": "V6xH3l2whj0P"
      },
      "source": [
        "# Fitting the TF-IDF on the 'overview' text\n",
        "tfv_matrix = tfv.fit_transform(movies['overview'])"
      ],
      "execution_count": null,
      "outputs": []
    },
    {
      "cell_type": "code",
      "metadata": {
        "colab": {
          "base_uri": "https://localhost:8080/"
        },
        "id": "cKwDXekfhpEB",
        "outputId": "17c11289-8b98-4d15-f840-85c5d58b8ffa"
      },
      "source": [
        "tfv_matrix.shape"
      ],
      "execution_count": null,
      "outputs": [
        {
          "output_type": "execute_result",
          "data": {
            "text/plain": [
              "(4803, 10417)"
            ]
          },
          "metadata": {
            "tags": []
          },
          "execution_count": 55
        }
      ]
    },
    {
      "cell_type": "code",
      "metadata": {
        "id": "1j9wzr5ehsaw"
      },
      "source": [
        "from sklearn.metrics.pairwise import sigmoid_kernel\n",
        "\n",
        "# Compute the sigmoid kernel\n",
        "sig = sigmoid_kernel(tfv_matrix, tfv_matrix)"
      ],
      "execution_count": null,
      "outputs": []
    },
    {
      "cell_type": "code",
      "metadata": {
        "id": "JRvXKqrMhwN1"
      },
      "source": [
        "# Reverse mapping of indices and movie titles\n",
        "indices = pd.Series(movies.index, index=movies['original_title']).drop_duplicates()"
      ],
      "execution_count": null,
      "outputs": []
    },
    {
      "cell_type": "code",
      "metadata": {
        "colab": {
          "base_uri": "https://localhost:8080/"
        },
        "id": "x75JDTkwh2Ro",
        "outputId": "ee2df794-f5b4-4993-979d-e5e26fddb436"
      },
      "source": [
        "indices"
      ],
      "execution_count": null,
      "outputs": [
        {
          "output_type": "execute_result",
          "data": {
            "text/plain": [
              "original_title\n",
              "Avatar                                         0\n",
              "Pirates of the Caribbean: At World's End       1\n",
              "Spectre                                        2\n",
              "The Dark Knight Rises                          3\n",
              "John Carter                                    4\n",
              "                                            ... \n",
              "El Mariachi                                 4798\n",
              "Newlyweds                                   4799\n",
              "Signed, Sealed, Delivered                   4800\n",
              "Shanghai Calling                            4801\n",
              "My Date with Drew                           4802\n",
              "Length: 4803, dtype: int64"
            ]
          },
          "metadata": {
            "tags": []
          },
          "execution_count": 58
        }
      ]
    },
    {
      "cell_type": "code",
      "metadata": {
        "id": "Ebp7Jsych3Qk"
      },
      "source": [
        "def give_rec(title, sig=sig):\n",
        "    # Get the index corresponding to original_title\n",
        "    idx = indices[title]\n",
        "\n",
        "    # Get the pairwsie similarity scores \n",
        "    sig_scores = list(enumerate(sig[idx]))\n",
        "\n",
        "    # Sort the movies \n",
        "    sig_scores = sorted(sig_scores, key=lambda x: x[1], reverse=True)\n",
        "\n",
        "    # Scores of the 10 most similar movies\n",
        "    sig_scores = sig_scores[1:11]\n",
        "\n",
        "    # Movie indices\n",
        "    movie_indices = [i[0] for i in sig_scores]\n",
        "\n",
        "    # Top 10 most similar movies\n",
        "    return movies['original_title'].iloc[movie_indices]"
      ],
      "execution_count": null,
      "outputs": []
    },
    {
      "cell_type": "code",
      "metadata": {
        "colab": {
          "base_uri": "https://localhost:8080/"
        },
        "id": "ohCT13V9iSzh",
        "outputId": "f4ec01cb-1c99-44ca-b7e6-f022fa4bf887"
      },
      "source": [
        "#Example\n",
        "ex=\"Superman\"\n",
        "give_rec(ex)"
      ],
      "execution_count": null,
      "outputs": [
        {
          "output_type": "execute_result",
          "data": {
            "text/plain": [
              "870                          Superman II\n",
              "10                      Superman Returns\n",
              "2433    Superman IV: The Quest for Peace\n",
              "3542                                R100\n",
              "914                 Central Intelligence\n",
              "1368                      Identity Thief\n",
              "2218                      Death Sentence\n",
              "916                         Daddy's Home\n",
              "4659                          Horse Camp\n",
              "3109                              Edmond\n",
              "Name: original_title, dtype: object"
            ]
          },
          "metadata": {
            "tags": []
          },
          "execution_count": 63
        }
      ]
    },
    {
      "cell_type": "markdown",
      "metadata": {
        "id": "4N9K-DL5jP_H"
      },
      "source": [
        "Enter a Movie Name to find recommendations\n",
        "\n",
        "Type in this format:\n",
        "\"Movie Name\" and not \"movie name\""
      ]
    },
    {
      "cell_type": "code",
      "metadata": {
        "colab": {
          "base_uri": "https://localhost:8080/"
        },
        "id": "eJZL3Z7HiCYF",
        "outputId": "a95351d3-d3fe-4c45-97a9-f6999a269386"
      },
      "source": [
        "ex=input(\"Enter movie:  \")\n",
        "ex=ex.title()\n",
        "give_rec(ex)\n"
      ],
      "execution_count": null,
      "outputs": [
        {
          "output_type": "stream",
          "text": [
            "Enter movie:  Iron Man\n"
          ],
          "name": "stdout"
        },
        {
          "output_type": "execute_result",
          "data": {
            "text/plain": [
              "79                      Iron Man 2\n",
              "31                      Iron Man 3\n",
              "7          Avengers: Age of Ultron\n",
              "538                        Hostage\n",
              "1290      Baahubali: The Beginning\n",
              "4233                     Unsullied\n",
              "4325      Beyond the Black Rainbow\n",
              "1868            Cradle 2 the Grave\n",
              "4321    From a Whisper to a Scream\n",
              "119                  Batman Begins\n",
              "Name: original_title, dtype: object"
            ]
          },
          "metadata": {
            "tags": []
          },
          "execution_count": 67
        }
      ]
    },
    {
      "cell_type": "code",
      "metadata": {
        "id": "pvyAULMUiNd5"
      },
      "source": [
        ""
      ],
      "execution_count": null,
      "outputs": []
    }
  ]
}